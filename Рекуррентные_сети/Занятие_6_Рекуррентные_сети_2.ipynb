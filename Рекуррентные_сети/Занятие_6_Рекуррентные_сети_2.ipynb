{
  "cells": [
    {
      "cell_type": "code",
      "execution_count": 1,
      "metadata": {
        "id": "iHah9Vq74t0e"
      },
      "outputs": [],
      "source": [
        "import torch\n",
        "from torch import nn\n",
        "import re\n",
        "import random\n",
        "import tqdm\n",
        "import time"
      ]
    },
    {
      "cell_type": "code",
      "execution_count": 5,
      "metadata": {},
      "outputs": [
        {
          "name": "stdout",
          "output_type": "stream",
          "text": [
            "Collecting wget\n",
            "  Downloading wget-3.2.zip (10 kB)\n",
            "  Installing build dependencies: started\n",
            "  Installing build dependencies: finished with status 'done'\n",
            "  Getting requirements to build wheel: started\n",
            "  Getting requirements to build wheel: finished with status 'done'\n",
            "  Preparing metadata (pyproject.toml): started\n",
            "  Preparing metadata (pyproject.toml): finished with status 'done'\n",
            "Building wheels for collected packages: wget\n",
            "  Building wheel for wget (pyproject.toml): started\n",
            "  Building wheel for wget (pyproject.toml): finished with status 'done'\n",
            "  Created wheel for wget: filename=wget-3.2-py3-none-any.whl size=9680 sha256=4d733d0a9abc1b712f66c3a09f6ba3c143d67a36738f58fa3629c49b502f3215\n",
            "  Stored in directory: c:\\users\\анатолий\\appdata\\local\\pip\\cache\\wheels\\40\\b3\\0f\\a40dbd1c6861731779f62cc4babcb234387e11d697df70ee97\n",
            "Successfully built wget\n",
            "Installing collected packages: wget\n",
            "Successfully installed wget-3.2\n"
          ]
        }
      ],
      "source": [
        "!pip install wget"
      ]
    },
    {
      "cell_type": "code",
      "execution_count": 8,
      "metadata": {
        "colab": {
          "base_uri": "https://localhost:8080/"
        },
        "id": "S-bs1_g342Nh",
        "outputId": "8e6e23d9-bf01-4530-dce5-1442ec442ad6"
      },
      "outputs": [
        {
          "name": "stderr",
          "output_type": "stream",
          "text": [
            "--2023-09-21 22:14:49--  https://s3.amazonaws.com/text-datasets/nietzsche.txt\n",
            "Resolving s3.amazonaws.com (s3.amazonaws.com)... 52.217.16.46, 52.217.37.86, 52.217.74.86, ...\n",
            "Connecting to s3.amazonaws.com (s3.amazonaws.com)|52.217.16.46|:443... connected.\n",
            "HTTP request sent, awaiting response... 200 OK\n",
            "Length: 600901 (587K) [text/plain]\n",
            "Saving to: 'nietzsche.txt'\n",
            "\n",
            "     0K .......... .......... .......... .......... ..........  8%  330K 2s\n",
            "    50K .......... .......... .......... .......... .......... 17%  337K 1s\n",
            "   100K .......... .......... .......... .......... .......... 25%  559K 1s\n",
            "   150K .......... .......... .......... .......... .......... 34%  830K 1s\n",
            "   200K .......... .......... .......... .......... .......... 42% 10,3M 1s\n",
            "   250K .......... .......... .......... .......... .......... 51%  351K 1s\n",
            "   300K .......... .......... .......... .......... .......... 59% 14,8M 0s\n",
            "   350K .......... .......... .......... .......... .......... 68% 10,3M 0s\n",
            "   400K .......... .......... .......... .......... .......... 76%  351K 0s\n",
            "   450K .......... .......... .......... .......... .......... 85% 10,5M 0s\n",
            "   500K .......... .......... .......... .......... .......... 93% 12,1M 0s\n",
            "   550K .......... .......... .......... ......               100% 11,1M=0,8s\n",
            "\n",
            "2023-09-21 22:14:51 (772 KB/s) - 'nietzsche.txt' saved [600901/600901]\n",
            "\n"
          ]
        }
      ],
      "source": [
        "!wget https://s3.amazonaws.com/text-datasets/nietzsche.txt"
      ]
    },
    {
      "cell_type": "code",
      "execution_count": 9,
      "metadata": {
        "colab": {
          "base_uri": "https://localhost:8080/"
        },
        "id": "ArE9Sysh5EDE",
        "outputId": "ae2671ba-c31b-4b86-e797-e012e256e790"
      },
      "outputs": [
        {
          "name": "stdout",
          "output_type": "stream",
          "text": [
            "length: 600893\n"
          ]
        }
      ],
      "source": [
        "with open('nietzsche.txt', encoding='utf-8') as f:\n",
        "    text = f.read().lower()\n",
        "print('length:', len(text))\n",
        "text = re.sub('[^a-z ]', ' ', text)\n",
        "text = re.sub('\\s+', ' ', text)"
      ]
    },
    {
      "cell_type": "code",
      "execution_count": 10,
      "metadata": {
        "colab": {
          "base_uri": "https://localhost:8080/",
          "height": 36
        },
        "id": "Ijyo7gcL49kz",
        "outputId": "738b82e2-1ea3-41d0-ba9f-422ae4b659af"
      },
      "outputs": [
        {
          "data": {
            "text/plain": [
              "'preface supposing that truth is a woman what then is there not ground for suspecting that all philos'"
            ]
          },
          "execution_count": 10,
          "metadata": {},
          "output_type": "execute_result"
        }
      ],
      "source": [
        "text[:100]"
      ]
    },
    {
      "cell_type": "code",
      "execution_count": 11,
      "metadata": {
        "id": "iNiH2xET5HxF"
      },
      "outputs": [],
      "source": [
        "INDEX_TO_CHAR = sorted(list(set(text)))\n",
        "CHAR_TO_INDEX = {c: i for i, c in enumerate(INDEX_TO_CHAR)}"
      ]
    },
    {
      "cell_type": "code",
      "execution_count": 12,
      "metadata": {
        "colab": {
          "base_uri": "https://localhost:8080/"
        },
        "id": "GAer4W2RYfhr",
        "outputId": "964f954a-7b56-4ed4-a178-5d3fd87623cd"
      },
      "outputs": [
        {
          "data": {
            "text/plain": [
              "{' ': 0,\n",
              " 'a': 1,\n",
              " 'b': 2,\n",
              " 'c': 3,\n",
              " 'd': 4,\n",
              " 'e': 5,\n",
              " 'f': 6,\n",
              " 'g': 7,\n",
              " 'h': 8,\n",
              " 'i': 9,\n",
              " 'j': 10,\n",
              " 'k': 11,\n",
              " 'l': 12,\n",
              " 'm': 13,\n",
              " 'n': 14,\n",
              " 'o': 15,\n",
              " 'p': 16,\n",
              " 'q': 17,\n",
              " 'r': 18,\n",
              " 's': 19,\n",
              " 't': 20,\n",
              " 'u': 21,\n",
              " 'v': 22,\n",
              " 'w': 23,\n",
              " 'x': 24,\n",
              " 'y': 25,\n",
              " 'z': 26}"
            ]
          },
          "execution_count": 12,
          "metadata": {},
          "output_type": "execute_result"
        }
      ],
      "source": [
        "CHAR_TO_INDEX"
      ]
    },
    {
      "cell_type": "code",
      "execution_count": 13,
      "metadata": {
        "colab": {
          "base_uri": "https://localhost:8080/"
        },
        "id": "X4EeJBub5ueL",
        "outputId": "6e6de311-5399-43e8-e49b-4e708eebeb46"
      },
      "outputs": [
        {
          "name": "stdout",
          "output_type": "stream",
          "text": [
            "Num sents: 193075\n"
          ]
        }
      ],
      "source": [
        "MAX_LEN = 40\n",
        "STEP = 3\n",
        "SENTENCES = []\n",
        "NEXT_CHARS = []\n",
        "for i in range(0, len(text) - MAX_LEN, STEP):\n",
        "    SENTENCES.append(text[i: i + MAX_LEN])\n",
        "    NEXT_CHARS.append(text[i + MAX_LEN])\n",
        "print('Num sents:', len(SENTENCES))"
      ]
    },
    {
      "cell_type": "code",
      "execution_count": 14,
      "metadata": {
        "colab": {
          "base_uri": "https://localhost:8080/"
        },
        "id": "EHPHQII_6MUV",
        "outputId": "d48cb0da-193f-478e-e011-0cc3fa05c82f"
      },
      "outputs": [
        {
          "name": "stdout",
          "output_type": "stream",
          "text": [
            "Vectorization...\n"
          ]
        }
      ],
      "source": [
        "print('Vectorization...')\n",
        "X = torch.zeros((len(SENTENCES), MAX_LEN), dtype=int)\n",
        "Y = torch.zeros((len(SENTENCES)), dtype=int)\n",
        "for i, sentence in enumerate(SENTENCES):\n",
        "    for t, char in enumerate(sentence):\n",
        "        X[i, t] = CHAR_TO_INDEX[char]\n",
        "    Y[i] = CHAR_TO_INDEX[NEXT_CHARS[i]]"
      ]
    },
    {
      "cell_type": "code",
      "execution_count": 15,
      "metadata": {
        "colab": {
          "base_uri": "https://localhost:8080/"
        },
        "id": "n7MP7Jzi7PAN",
        "outputId": "c6d57fcb-d912-4b43-a2e8-17a46e4a8003"
      },
      "outputs": [
        {
          "data": {
            "text/plain": [
              "(tensor([[16, 18,  5,  6,  1,  3,  5,  0, 19, 21, 16, 16, 15, 19,  9, 14,  7,  0,\n",
              "          20,  8,  1, 20,  0, 20, 18, 21, 20,  8,  0,  9, 19,  0,  1,  0, 23, 15,\n",
              "          13,  1, 14,  0]]),\n",
              " tensor(23))"
            ]
          },
          "execution_count": 15,
          "metadata": {},
          "output_type": "execute_result"
        }
      ],
      "source": [
        "X[0:1], Y[0]"
      ]
    },
    {
      "cell_type": "code",
      "execution_count": 16,
      "metadata": {
        "id": "4XKb2CyB6nwL"
      },
      "outputs": [],
      "source": [
        "BATCH_SIZE=512\n",
        "dataset = torch.utils.data.TensorDataset(X, Y)\n",
        "data = torch.utils.data.DataLoader(dataset, BATCH_SIZE, shuffle=True)\n"
      ]
    },
    {
      "cell_type": "code",
      "execution_count": 17,
      "metadata": {
        "id": "psIcSGM27YPL"
      },
      "outputs": [],
      "source": [
        "class NeuralNetwork(nn.Module):\n",
        "    def __init__(self, rnnClass, dictionary_size, embedding_size, num_hiddens, num_classes):\n",
        "        super().__init__()\n",
        "        \n",
        "        self.num_hiddens = num_hiddens\n",
        "        self.embedding = nn.Embedding(dictionary_size, embedding_size)\n",
        "        self.hidden = rnnClass(embedding_size, num_hiddens, batch_first=True)\n",
        "        self.output = nn.Linear(num_hiddens, num_classes)\n",
        "        \n",
        "    def forward(self, X):\n",
        "        out = self.embedding(X)\n",
        "        _, state = self.hidden(out)\n",
        "        predictions = self.output(state[0].squeeze())\n",
        "        return predictions"
      ]
    },
    {
      "cell_type": "code",
      "execution_count": 18,
      "metadata": {
        "id": "wHDuSE8A7ssc"
      },
      "outputs": [],
      "source": [
        "model = NeuralNetwork(nn.GRU, len(CHAR_TO_INDEX), 64, 128, len(CHAR_TO_INDEX))"
      ]
    },
    {
      "cell_type": "code",
      "execution_count": 19,
      "metadata": {
        "colab": {
          "base_uri": "https://localhost:8080/"
        },
        "id": "SvKPD9L9zJal",
        "outputId": "8a69e7a2-ef45-4acb-af30-58ed5b20f316"
      },
      "outputs": [
        {
          "data": {
            "text/plain": [
              "torch.Size([193075, 40])"
            ]
          },
          "execution_count": 19,
          "metadata": {},
          "output_type": "execute_result"
        }
      ],
      "source": [
        "X.shape"
      ]
    },
    {
      "cell_type": "code",
      "execution_count": 20,
      "metadata": {
        "colab": {
          "base_uri": "https://localhost:8080/"
        },
        "id": "vTCG-ESC74UK",
        "outputId": "183a612f-2a3a-4a5a-87a7-f355a47f924f"
      },
      "outputs": [
        {
          "data": {
            "text/plain": [
              "tensor([-0.0791, -0.2085, -0.0455, -0.1693, -0.2564,  0.0378, -0.1432, -0.1375,\n",
              "        -0.0876, -0.0774, -0.0693, -0.1199,  0.1950,  0.0108, -0.1786,  0.0804,\n",
              "         0.0004,  0.1309, -0.0236,  0.0134,  0.0097,  0.1423, -0.1204, -0.0674,\n",
              "        -0.0557,  0.1333,  0.0175], grad_fn=<ViewBackward0>)"
            ]
          },
          "execution_count": 20,
          "metadata": {},
          "output_type": "execute_result"
        }
      ],
      "source": [
        "model(X[0:1])"
      ]
    },
    {
      "cell_type": "code",
      "execution_count": 21,
      "metadata": {
        "id": "gch6FQl8x6Hj"
      },
      "outputs": [],
      "source": [
        "embedding = nn.Embedding(len(INDEX_TO_CHAR), 15)\n",
        "rnn = nn.LSTM(15,128, batch_first=True)"
      ]
    },
    {
      "cell_type": "code",
      "execution_count": 22,
      "metadata": {
        "colab": {
          "base_uri": "https://localhost:8080/"
        },
        "id": "bJsUqfxYeq0b",
        "outputId": "fef78aac-7f25-4225-f2e0-37a661d91676"
      },
      "outputs": [
        {
          "data": {
            "text/plain": [
              "(torch.Size([10, 40, 128]),\n",
              " 2,\n",
              " torch.Size([1, 10, 128]),\n",
              " torch.Size([1, 10, 128]))"
            ]
          },
          "execution_count": 22,
          "metadata": {},
          "output_type": "execute_result"
        }
      ],
      "source": [
        "o, s = rnn(embedding(X[0:10]))\n",
        "o.shape, len(s), s[0].shape, s[1].shape"
      ]
    },
    {
      "cell_type": "code",
      "execution_count": 30,
      "metadata": {
        "id": "qbiqECBCP4Bv"
      },
      "outputs": [
        {
          "data": {
            "text/plain": [
              "(torch.Size([10, 40, 128]), 1, torch.Size([10, 128]))"
            ]
          },
          "execution_count": 30,
          "metadata": {},
          "output_type": "execute_result"
        }
      ],
      "source": [
        "rnn = nn.GRU(15,128, batch_first=True)\n",
        "o, s = rnn(embedding(X[0:10]))\n",
        "o.shape, len(s), s[0].shape"
      ]
    },
    {
      "cell_type": "code",
      "execution_count": 31,
      "metadata": {
        "id": "evDHlyNOykBr"
      },
      "outputs": [],
      "source": [
        "o, s = rnn(embedding(X[0:10]))"
      ]
    },
    {
      "cell_type": "code",
      "execution_count": 38,
      "metadata": {
        "colab": {
          "base_uri": "https://localhost:8080/"
        },
        "id": "5hYTukwkykHJ",
        "outputId": "f75b46be-f6ab-4528-8e1c-b0e47dba0b06"
      },
      "outputs": [
        {
          "ename": "IndexError",
          "evalue": "index 1 is out of bounds for dimension 0 with size 1",
          "output_type": "error",
          "traceback": [
            "\u001b[1;31m---------------------------------------------------------------------------\u001b[0m",
            "\u001b[1;31mIndexError\u001b[0m                                Traceback (most recent call last)",
            "\u001b[1;32mc:\\Users\\Анатолий\\Documents\\GitHub\\Lesson\\Рекуррентные_сети\\Занятие_6_Рекуррентные_сети_2.ipynb Ячейка 20\u001b[0m line \u001b[0;36m1\n\u001b[1;32m----> <a href='vscode-notebook-cell:/c%3A/Users/%D0%90%D0%BD%D0%B0%D1%82%D0%BE%D0%BB%D0%B8%D0%B9/Documents/GitHub/Lesson/%D0%A0%D0%B5%D0%BA%D1%83%D1%80%D1%80%D0%B5%D0%BD%D1%82%D0%BD%D1%8B%D0%B5_%D1%81%D0%B5%D1%82%D0%B8/%D0%97%D0%B0%D0%BD%D1%8F%D1%82%D0%B8%D0%B5_6_%D0%A0%D0%B5%D0%BA%D1%83%D1%80%D1%80%D0%B5%D0%BD%D1%82%D0%BD%D1%8B%D0%B5_%D1%81%D0%B5%D1%82%D0%B8_2.ipynb#X24sZmlsZQ%3D%3D?line=0'>1</a>\u001b[0m o\u001b[39m.\u001b[39mshape, s[\u001b[39m0\u001b[39m]\u001b[39m.\u001b[39mshape, s[\u001b[39m1\u001b[39;49m]\u001b[39m.\u001b[39mshape\n",
            "\u001b[1;31mIndexError\u001b[0m: index 1 is out of bounds for dimension 0 with size 1"
          ]
        }
      ],
      "source": [
        "o.shape, s[0].shape, s[1].shape"
      ]
    },
    {
      "cell_type": "code",
      "execution_count": 33,
      "metadata": {
        "id": "jbeKFkwdFclg"
      },
      "outputs": [],
      "source": [
        "model = model.cuda()"
      ]
    },
    {
      "cell_type": "code",
      "execution_count": 34,
      "metadata": {
        "id": "ZQpkKJV_76dq"
      },
      "outputs": [],
      "source": [
        "def sample(preds):\n",
        "    softmaxed = torch.softmax(preds, 0)\n",
        "    probas = torch.distributions.multinomial.Multinomial(1, softmaxed).sample()\n",
        "    return probas.argmax()\n",
        "\n",
        "def generate_text():\n",
        "    start_index = random.randint(0, len(text) - MAX_LEN - 1)\n",
        "\n",
        "    generated = ''\n",
        "    sentence = text[start_index: start_index + MAX_LEN]\n",
        "    generated += sentence\n",
        "\n",
        "    for i in range(MAX_LEN):\n",
        "        x_pred = torch.zeros((1, MAX_LEN), dtype=int)\n",
        "        for t, char in enumerate(generated[-MAX_LEN:]):\n",
        "            x_pred[0, t] = CHAR_TO_INDEX[char]\n",
        "\n",
        "        preds = model(x_pred.cuda())[0].cpu()\n",
        "        next_char = INDEX_TO_CHAR[sample(preds)]\n",
        "        generated = generated + next_char\n",
        "\n",
        "    print(generated[:MAX_LEN] + '|' + generated[MAX_LEN:])"
      ]
    },
    {
      "cell_type": "code",
      "execution_count": 35,
      "metadata": {
        "colab": {
          "base_uri": "https://localhost:8080/"
        },
        "id": "6EV09Ast97aQ",
        "outputId": "385ca42f-74ee-41a8-8aeb-3d12d30d195b"
      },
      "outputs": [
        {
          "ename": "ValueError",
          "evalue": "`probs` parameter must be at least one-dimensional.",
          "output_type": "error",
          "traceback": [
            "\u001b[1;31m---------------------------------------------------------------------------\u001b[0m",
            "\u001b[1;31mValueError\u001b[0m                                Traceback (most recent call last)",
            "\u001b[1;32mc:\\Users\\Анатолий\\Documents\\GitHub\\Lesson\\Рекуррентные_сети\\Занятие_6_Рекуррентные_сети_2.ipynb Ячейка 23\u001b[0m line \u001b[0;36m1\n\u001b[1;32m----> <a href='vscode-notebook-cell:/c%3A/Users/%D0%90%D0%BD%D0%B0%D1%82%D0%BE%D0%BB%D0%B8%D0%B9/Documents/GitHub/Lesson/%D0%A0%D0%B5%D0%BA%D1%83%D1%80%D1%80%D0%B5%D0%BD%D1%82%D0%BD%D1%8B%D0%B5_%D1%81%D0%B5%D1%82%D0%B8/%D0%97%D0%B0%D0%BD%D1%8F%D1%82%D0%B8%D0%B5_6_%D0%A0%D0%B5%D0%BA%D1%83%D1%80%D1%80%D0%B5%D0%BD%D1%82%D0%BD%D1%8B%D0%B5_%D1%81%D0%B5%D1%82%D0%B8_2.ipynb#X30sZmlsZQ%3D%3D?line=0'>1</a>\u001b[0m generate_text()\n",
            "\u001b[1;32mc:\\Users\\Анатолий\\Documents\\GitHub\\Lesson\\Рекуррентные_сети\\Занятие_6_Рекуррентные_сети_2.ipynb Ячейка 23\u001b[0m line \u001b[0;36m1\n\u001b[0;32m     <a href='vscode-notebook-cell:/c%3A/Users/%D0%90%D0%BD%D0%B0%D1%82%D0%BE%D0%BB%D0%B8%D0%B9/Documents/GitHub/Lesson/%D0%A0%D0%B5%D0%BA%D1%83%D1%80%D1%80%D0%B5%D0%BD%D1%82%D0%BD%D1%8B%D0%B5_%D1%81%D0%B5%D1%82%D0%B8/%D0%97%D0%B0%D0%BD%D1%8F%D1%82%D0%B8%D0%B5_6_%D0%A0%D0%B5%D0%BA%D1%83%D1%80%D1%80%D0%B5%D0%BD%D1%82%D0%BD%D1%8B%D0%B5_%D1%81%D0%B5%D1%82%D0%B8_2.ipynb#X30sZmlsZQ%3D%3D?line=15'>16</a>\u001b[0m         x_pred[\u001b[39m0\u001b[39m, t] \u001b[39m=\u001b[39m CHAR_TO_INDEX[char]\n\u001b[0;32m     <a href='vscode-notebook-cell:/c%3A/Users/%D0%90%D0%BD%D0%B0%D1%82%D0%BE%D0%BB%D0%B8%D0%B9/Documents/GitHub/Lesson/%D0%A0%D0%B5%D0%BA%D1%83%D1%80%D1%80%D0%B5%D0%BD%D1%82%D0%BD%D1%8B%D0%B5_%D1%81%D0%B5%D1%82%D0%B8/%D0%97%D0%B0%D0%BD%D1%8F%D1%82%D0%B8%D0%B5_6_%D0%A0%D0%B5%D0%BA%D1%83%D1%80%D1%80%D0%B5%D0%BD%D1%82%D0%BD%D1%8B%D0%B5_%D1%81%D0%B5%D1%82%D0%B8_2.ipynb#X30sZmlsZQ%3D%3D?line=17'>18</a>\u001b[0m     preds \u001b[39m=\u001b[39m model(x_pred\u001b[39m.\u001b[39mcuda())[\u001b[39m0\u001b[39m]\u001b[39m.\u001b[39mcpu()\n\u001b[1;32m---> <a href='vscode-notebook-cell:/c%3A/Users/%D0%90%D0%BD%D0%B0%D1%82%D0%BE%D0%BB%D0%B8%D0%B9/Documents/GitHub/Lesson/%D0%A0%D0%B5%D0%BA%D1%83%D1%80%D1%80%D0%B5%D0%BD%D1%82%D0%BD%D1%8B%D0%B5_%D1%81%D0%B5%D1%82%D0%B8/%D0%97%D0%B0%D0%BD%D1%8F%D1%82%D0%B8%D0%B5_6_%D0%A0%D0%B5%D0%BA%D1%83%D1%80%D1%80%D0%B5%D0%BD%D1%82%D0%BD%D1%8B%D0%B5_%D1%81%D0%B5%D1%82%D0%B8_2.ipynb#X30sZmlsZQ%3D%3D?line=18'>19</a>\u001b[0m     next_char \u001b[39m=\u001b[39m INDEX_TO_CHAR[sample(preds)]\n\u001b[0;32m     <a href='vscode-notebook-cell:/c%3A/Users/%D0%90%D0%BD%D0%B0%D1%82%D0%BE%D0%BB%D0%B8%D0%B9/Documents/GitHub/Lesson/%D0%A0%D0%B5%D0%BA%D1%83%D1%80%D1%80%D0%B5%D0%BD%D1%82%D0%BD%D1%8B%D0%B5_%D1%81%D0%B5%D1%82%D0%B8/%D0%97%D0%B0%D0%BD%D1%8F%D1%82%D0%B8%D0%B5_6_%D0%A0%D0%B5%D0%BA%D1%83%D1%80%D1%80%D0%B5%D0%BD%D1%82%D0%BD%D1%8B%D0%B5_%D1%81%D0%B5%D1%82%D0%B8_2.ipynb#X30sZmlsZQ%3D%3D?line=19'>20</a>\u001b[0m     generated \u001b[39m=\u001b[39m generated \u001b[39m+\u001b[39m next_char\n\u001b[0;32m     <a href='vscode-notebook-cell:/c%3A/Users/%D0%90%D0%BD%D0%B0%D1%82%D0%BE%D0%BB%D0%B8%D0%B9/Documents/GitHub/Lesson/%D0%A0%D0%B5%D0%BA%D1%83%D1%80%D1%80%D0%B5%D0%BD%D1%82%D0%BD%D1%8B%D0%B5_%D1%81%D0%B5%D1%82%D0%B8/%D0%97%D0%B0%D0%BD%D1%8F%D1%82%D0%B8%D0%B5_6_%D0%A0%D0%B5%D0%BA%D1%83%D1%80%D1%80%D0%B5%D0%BD%D1%82%D0%BD%D1%8B%D0%B5_%D1%81%D0%B5%D1%82%D0%B8_2.ipynb#X30sZmlsZQ%3D%3D?line=21'>22</a>\u001b[0m \u001b[39mprint\u001b[39m(generated[:MAX_LEN] \u001b[39m+\u001b[39m \u001b[39m'\u001b[39m\u001b[39m|\u001b[39m\u001b[39m'\u001b[39m \u001b[39m+\u001b[39m generated[MAX_LEN:])\n",
            "\u001b[1;32mc:\\Users\\Анатолий\\Documents\\GitHub\\Lesson\\Рекуррентные_сети\\Занятие_6_Рекуррентные_сети_2.ipynb Ячейка 23\u001b[0m line \u001b[0;36m3\n\u001b[0;32m      <a href='vscode-notebook-cell:/c%3A/Users/%D0%90%D0%BD%D0%B0%D1%82%D0%BE%D0%BB%D0%B8%D0%B9/Documents/GitHub/Lesson/%D0%A0%D0%B5%D0%BA%D1%83%D1%80%D1%80%D0%B5%D0%BD%D1%82%D0%BD%D1%8B%D0%B5_%D1%81%D0%B5%D1%82%D0%B8/%D0%97%D0%B0%D0%BD%D1%8F%D1%82%D0%B8%D0%B5_6_%D0%A0%D0%B5%D0%BA%D1%83%D1%80%D1%80%D0%B5%D0%BD%D1%82%D0%BD%D1%8B%D0%B5_%D1%81%D0%B5%D1%82%D0%B8_2.ipynb#X30sZmlsZQ%3D%3D?line=0'>1</a>\u001b[0m \u001b[39mdef\u001b[39;00m \u001b[39msample\u001b[39m(preds):\n\u001b[0;32m      <a href='vscode-notebook-cell:/c%3A/Users/%D0%90%D0%BD%D0%B0%D1%82%D0%BE%D0%BB%D0%B8%D0%B9/Documents/GitHub/Lesson/%D0%A0%D0%B5%D0%BA%D1%83%D1%80%D1%80%D0%B5%D0%BD%D1%82%D0%BD%D1%8B%D0%B5_%D1%81%D0%B5%D1%82%D0%B8/%D0%97%D0%B0%D0%BD%D1%8F%D1%82%D0%B8%D0%B5_6_%D0%A0%D0%B5%D0%BA%D1%83%D1%80%D1%80%D0%B5%D0%BD%D1%82%D0%BD%D1%8B%D0%B5_%D1%81%D0%B5%D1%82%D0%B8_2.ipynb#X30sZmlsZQ%3D%3D?line=1'>2</a>\u001b[0m     softmaxed \u001b[39m=\u001b[39m torch\u001b[39m.\u001b[39msoftmax(preds, \u001b[39m0\u001b[39m)\n\u001b[1;32m----> <a href='vscode-notebook-cell:/c%3A/Users/%D0%90%D0%BD%D0%B0%D1%82%D0%BE%D0%BB%D0%B8%D0%B9/Documents/GitHub/Lesson/%D0%A0%D0%B5%D0%BA%D1%83%D1%80%D1%80%D0%B5%D0%BD%D1%82%D0%BD%D1%8B%D0%B5_%D1%81%D0%B5%D1%82%D0%B8/%D0%97%D0%B0%D0%BD%D1%8F%D1%82%D0%B8%D0%B5_6_%D0%A0%D0%B5%D0%BA%D1%83%D1%80%D1%80%D0%B5%D0%BD%D1%82%D0%BD%D1%8B%D0%B5_%D1%81%D0%B5%D1%82%D0%B8_2.ipynb#X30sZmlsZQ%3D%3D?line=2'>3</a>\u001b[0m     probas \u001b[39m=\u001b[39m torch\u001b[39m.\u001b[39;49mdistributions\u001b[39m.\u001b[39;49mmultinomial\u001b[39m.\u001b[39;49mMultinomial(\u001b[39m1\u001b[39;49m, softmaxed)\u001b[39m.\u001b[39msample()\n\u001b[0;32m      <a href='vscode-notebook-cell:/c%3A/Users/%D0%90%D0%BD%D0%B0%D1%82%D0%BE%D0%BB%D0%B8%D0%B9/Documents/GitHub/Lesson/%D0%A0%D0%B5%D0%BA%D1%83%D1%80%D1%80%D0%B5%D0%BD%D1%82%D0%BD%D1%8B%D0%B5_%D1%81%D0%B5%D1%82%D0%B8/%D0%97%D0%B0%D0%BD%D1%8F%D1%82%D0%B8%D0%B5_6_%D0%A0%D0%B5%D0%BA%D1%83%D1%80%D1%80%D0%B5%D0%BD%D1%82%D0%BD%D1%8B%D0%B5_%D1%81%D0%B5%D1%82%D0%B8_2.ipynb#X30sZmlsZQ%3D%3D?line=3'>4</a>\u001b[0m     \u001b[39mreturn\u001b[39;00m probas\u001b[39m.\u001b[39margmax()\n",
            "File \u001b[1;32mc:\\Users\\Анатолий\\source\\repos\\PyTorchtest\\PyTorchtest\\TorchEnv\\Lib\\site-packages\\torch\\distributions\\multinomial.py:63\u001b[0m, in \u001b[0;36mMultinomial.__init__\u001b[1;34m(self, total_count, probs, logits, validate_args)\u001b[0m\n\u001b[0;32m     61\u001b[0m     \u001b[39mraise\u001b[39;00m \u001b[39mNotImplementedError\u001b[39;00m(\u001b[39m\"\u001b[39m\u001b[39minhomogeneous total_count is not supported\u001b[39m\u001b[39m\"\u001b[39m)\n\u001b[0;32m     62\u001b[0m \u001b[39mself\u001b[39m\u001b[39m.\u001b[39mtotal_count \u001b[39m=\u001b[39m total_count\n\u001b[1;32m---> 63\u001b[0m \u001b[39mself\u001b[39m\u001b[39m.\u001b[39m_categorical \u001b[39m=\u001b[39m Categorical(probs\u001b[39m=\u001b[39;49mprobs, logits\u001b[39m=\u001b[39;49mlogits)\n\u001b[0;32m     64\u001b[0m \u001b[39mself\u001b[39m\u001b[39m.\u001b[39m_binomial \u001b[39m=\u001b[39m Binomial(total_count\u001b[39m=\u001b[39mtotal_count, probs\u001b[39m=\u001b[39m\u001b[39mself\u001b[39m\u001b[39m.\u001b[39mprobs)\n\u001b[0;32m     65\u001b[0m batch_shape \u001b[39m=\u001b[39m \u001b[39mself\u001b[39m\u001b[39m.\u001b[39m_categorical\u001b[39m.\u001b[39mbatch_shape\n",
            "File \u001b[1;32mc:\\Users\\Анатолий\\source\\repos\\PyTorchtest\\PyTorchtest\\TorchEnv\\Lib\\site-packages\\torch\\distributions\\categorical.py:58\u001b[0m, in \u001b[0;36mCategorical.__init__\u001b[1;34m(self, probs, logits, validate_args)\u001b[0m\n\u001b[0;32m     56\u001b[0m \u001b[39mif\u001b[39;00m probs \u001b[39mis\u001b[39;00m \u001b[39mnot\u001b[39;00m \u001b[39mNone\u001b[39;00m:\n\u001b[0;32m     57\u001b[0m     \u001b[39mif\u001b[39;00m probs\u001b[39m.\u001b[39mdim() \u001b[39m<\u001b[39m \u001b[39m1\u001b[39m:\n\u001b[1;32m---> 58\u001b[0m         \u001b[39mraise\u001b[39;00m \u001b[39mValueError\u001b[39;00m(\u001b[39m\"\u001b[39m\u001b[39m`probs` parameter must be at least one-dimensional.\u001b[39m\u001b[39m\"\u001b[39m)\n\u001b[0;32m     59\u001b[0m     \u001b[39mself\u001b[39m\u001b[39m.\u001b[39mprobs \u001b[39m=\u001b[39m probs \u001b[39m/\u001b[39m probs\u001b[39m.\u001b[39msum(\u001b[39m-\u001b[39m\u001b[39m1\u001b[39m, keepdim\u001b[39m=\u001b[39m\u001b[39mTrue\u001b[39;00m)\n\u001b[0;32m     60\u001b[0m \u001b[39melse\u001b[39;00m:\n",
            "\u001b[1;31mValueError\u001b[0m: `probs` parameter must be at least one-dimensional."
          ]
        }
      ],
      "source": [
        "generate_text()"
      ]
    },
    {
      "cell_type": "code",
      "execution_count": 36,
      "metadata": {
        "id": "hylQYY8H_Lw2"
      },
      "outputs": [],
      "source": [
        "criterion = torch.nn.CrossEntropyLoss()\n",
        "optimizer = torch.optim.Adam(model.parameters())"
      ]
    },
    {
      "cell_type": "code",
      "execution_count": 37,
      "metadata": {
        "colab": {
          "base_uri": "https://localhost:8080/"
        },
        "id": "qshorynU9-Cx",
        "outputId": "e2b45154-9cf2-4799-d66a-2eb9fc5a92fb"
      },
      "outputs": [
        {
          "name": "stdout",
          "output_type": "stream",
          "text": [
            "Epoch 0. Time: 6.682, Train loss: 2.106\n"
          ]
        },
        {
          "ename": "ValueError",
          "evalue": "`probs` parameter must be at least one-dimensional.",
          "output_type": "error",
          "traceback": [
            "\u001b[1;31m---------------------------------------------------------------------------\u001b[0m",
            "\u001b[1;31mValueError\u001b[0m                                Traceback (most recent call last)",
            "\u001b[1;32mc:\\Users\\Анатолий\\Documents\\GitHub\\Lesson\\Рекуррентные_сети\\Занятие_6_Рекуррентные_сети_2.ipynb Ячейка 25\u001b[0m line \u001b[0;36m2\n\u001b[0;32m     <a href='vscode-notebook-cell:/c%3A/Users/%D0%90%D0%BD%D0%B0%D1%82%D0%BE%D0%BB%D0%B8%D0%B9/Documents/GitHub/Lesson/%D0%A0%D0%B5%D0%BA%D1%83%D1%80%D1%80%D0%B5%D0%BD%D1%82%D0%BD%D1%8B%D0%B5_%D1%81%D0%B5%D1%82%D0%B8/%D0%97%D0%B0%D0%BD%D1%8F%D1%82%D0%B8%D0%B5_6_%D0%A0%D0%B5%D0%BA%D1%83%D1%80%D1%80%D0%B5%D0%BD%D1%82%D0%BD%D1%8B%D0%B5_%D1%81%D0%B5%D1%82%D0%B8_2.ipynb#X32sZmlsZQ%3D%3D?line=17'>18</a>\u001b[0m \u001b[39mprint\u001b[39m(\u001b[39m\"\u001b[39m\u001b[39mEpoch \u001b[39m\u001b[39m{}\u001b[39;00m\u001b[39m. Time: \u001b[39m\u001b[39m{:.3f}\u001b[39;00m\u001b[39m, Train loss: \u001b[39m\u001b[39m{:.3f}\u001b[39;00m\u001b[39m\"\u001b[39m\u001b[39m.\u001b[39mformat(ep, time\u001b[39m.\u001b[39mtime() \u001b[39m-\u001b[39m start, train_loss \u001b[39m/\u001b[39m train_passed))\n\u001b[0;32m     <a href='vscode-notebook-cell:/c%3A/Users/%D0%90%D0%BD%D0%B0%D1%82%D0%BE%D0%BB%D0%B8%D0%B9/Documents/GitHub/Lesson/%D0%A0%D0%B5%D0%BA%D1%83%D1%80%D1%80%D0%B5%D0%BD%D1%82%D0%BD%D1%8B%D0%B5_%D1%81%D0%B5%D1%82%D0%B8/%D0%97%D0%B0%D0%BD%D1%8F%D1%82%D0%B8%D0%B5_6_%D0%A0%D0%B5%D0%BA%D1%83%D1%80%D1%80%D0%B5%D0%BD%D1%82%D0%BD%D1%8B%D0%B5_%D1%81%D0%B5%D1%82%D0%B8_2.ipynb#X32sZmlsZQ%3D%3D?line=18'>19</a>\u001b[0m model\u001b[39m.\u001b[39meval()\n\u001b[1;32m---> <a href='vscode-notebook-cell:/c%3A/Users/%D0%90%D0%BD%D0%B0%D1%82%D0%BE%D0%BB%D0%B8%D0%B9/Documents/GitHub/Lesson/%D0%A0%D0%B5%D0%BA%D1%83%D1%80%D1%80%D0%B5%D0%BD%D1%82%D0%BD%D1%8B%D0%B5_%D1%81%D0%B5%D1%82%D0%B8/%D0%97%D0%B0%D0%BD%D1%8F%D1%82%D0%B8%D0%B5_6_%D0%A0%D0%B5%D0%BA%D1%83%D1%80%D1%80%D0%B5%D0%BD%D1%82%D0%BD%D1%8B%D0%B5_%D1%81%D0%B5%D1%82%D0%B8_2.ipynb#X32sZmlsZQ%3D%3D?line=19'>20</a>\u001b[0m generate_text()\n",
            "\u001b[1;32mc:\\Users\\Анатолий\\Documents\\GitHub\\Lesson\\Рекуррентные_сети\\Занятие_6_Рекуррентные_сети_2.ipynb Ячейка 25\u001b[0m line \u001b[0;36m1\n\u001b[0;32m     <a href='vscode-notebook-cell:/c%3A/Users/%D0%90%D0%BD%D0%B0%D1%82%D0%BE%D0%BB%D0%B8%D0%B9/Documents/GitHub/Lesson/%D0%A0%D0%B5%D0%BA%D1%83%D1%80%D1%80%D0%B5%D0%BD%D1%82%D0%BD%D1%8B%D0%B5_%D1%81%D0%B5%D1%82%D0%B8/%D0%97%D0%B0%D0%BD%D1%8F%D1%82%D0%B8%D0%B5_6_%D0%A0%D0%B5%D0%BA%D1%83%D1%80%D1%80%D0%B5%D0%BD%D1%82%D0%BD%D1%8B%D0%B5_%D1%81%D0%B5%D1%82%D0%B8_2.ipynb#X32sZmlsZQ%3D%3D?line=15'>16</a>\u001b[0m         x_pred[\u001b[39m0\u001b[39m, t] \u001b[39m=\u001b[39m CHAR_TO_INDEX[char]\n\u001b[0;32m     <a href='vscode-notebook-cell:/c%3A/Users/%D0%90%D0%BD%D0%B0%D1%82%D0%BE%D0%BB%D0%B8%D0%B9/Documents/GitHub/Lesson/%D0%A0%D0%B5%D0%BA%D1%83%D1%80%D1%80%D0%B5%D0%BD%D1%82%D0%BD%D1%8B%D0%B5_%D1%81%D0%B5%D1%82%D0%B8/%D0%97%D0%B0%D0%BD%D1%8F%D1%82%D0%B8%D0%B5_6_%D0%A0%D0%B5%D0%BA%D1%83%D1%80%D1%80%D0%B5%D0%BD%D1%82%D0%BD%D1%8B%D0%B5_%D1%81%D0%B5%D1%82%D0%B8_2.ipynb#X32sZmlsZQ%3D%3D?line=17'>18</a>\u001b[0m     preds \u001b[39m=\u001b[39m model(x_pred\u001b[39m.\u001b[39mcuda())[\u001b[39m0\u001b[39m]\u001b[39m.\u001b[39mcpu()\n\u001b[1;32m---> <a href='vscode-notebook-cell:/c%3A/Users/%D0%90%D0%BD%D0%B0%D1%82%D0%BE%D0%BB%D0%B8%D0%B9/Documents/GitHub/Lesson/%D0%A0%D0%B5%D0%BA%D1%83%D1%80%D1%80%D0%B5%D0%BD%D1%82%D0%BD%D1%8B%D0%B5_%D1%81%D0%B5%D1%82%D0%B8/%D0%97%D0%B0%D0%BD%D1%8F%D1%82%D0%B8%D0%B5_6_%D0%A0%D0%B5%D0%BA%D1%83%D1%80%D1%80%D0%B5%D0%BD%D1%82%D0%BD%D1%8B%D0%B5_%D1%81%D0%B5%D1%82%D0%B8_2.ipynb#X32sZmlsZQ%3D%3D?line=18'>19</a>\u001b[0m     next_char \u001b[39m=\u001b[39m INDEX_TO_CHAR[sample(preds)]\n\u001b[0;32m     <a href='vscode-notebook-cell:/c%3A/Users/%D0%90%D0%BD%D0%B0%D1%82%D0%BE%D0%BB%D0%B8%D0%B9/Documents/GitHub/Lesson/%D0%A0%D0%B5%D0%BA%D1%83%D1%80%D1%80%D0%B5%D0%BD%D1%82%D0%BD%D1%8B%D0%B5_%D1%81%D0%B5%D1%82%D0%B8/%D0%97%D0%B0%D0%BD%D1%8F%D1%82%D0%B8%D0%B5_6_%D0%A0%D0%B5%D0%BA%D1%83%D1%80%D1%80%D0%B5%D0%BD%D1%82%D0%BD%D1%8B%D0%B5_%D1%81%D0%B5%D1%82%D0%B8_2.ipynb#X32sZmlsZQ%3D%3D?line=19'>20</a>\u001b[0m     generated \u001b[39m=\u001b[39m generated \u001b[39m+\u001b[39m next_char\n\u001b[0;32m     <a href='vscode-notebook-cell:/c%3A/Users/%D0%90%D0%BD%D0%B0%D1%82%D0%BE%D0%BB%D0%B8%D0%B9/Documents/GitHub/Lesson/%D0%A0%D0%B5%D0%BA%D1%83%D1%80%D1%80%D0%B5%D0%BD%D1%82%D0%BD%D1%8B%D0%B5_%D1%81%D0%B5%D1%82%D0%B8/%D0%97%D0%B0%D0%BD%D1%8F%D1%82%D0%B8%D0%B5_6_%D0%A0%D0%B5%D0%BA%D1%83%D1%80%D1%80%D0%B5%D0%BD%D1%82%D0%BD%D1%8B%D0%B5_%D1%81%D0%B5%D1%82%D0%B8_2.ipynb#X32sZmlsZQ%3D%3D?line=21'>22</a>\u001b[0m \u001b[39mprint\u001b[39m(generated[:MAX_LEN] \u001b[39m+\u001b[39m \u001b[39m'\u001b[39m\u001b[39m|\u001b[39m\u001b[39m'\u001b[39m \u001b[39m+\u001b[39m generated[MAX_LEN:])\n",
            "\u001b[1;32mc:\\Users\\Анатолий\\Documents\\GitHub\\Lesson\\Рекуррентные_сети\\Занятие_6_Рекуррентные_сети_2.ipynb Ячейка 25\u001b[0m line \u001b[0;36m3\n\u001b[0;32m      <a href='vscode-notebook-cell:/c%3A/Users/%D0%90%D0%BD%D0%B0%D1%82%D0%BE%D0%BB%D0%B8%D0%B9/Documents/GitHub/Lesson/%D0%A0%D0%B5%D0%BA%D1%83%D1%80%D1%80%D0%B5%D0%BD%D1%82%D0%BD%D1%8B%D0%B5_%D1%81%D0%B5%D1%82%D0%B8/%D0%97%D0%B0%D0%BD%D1%8F%D1%82%D0%B8%D0%B5_6_%D0%A0%D0%B5%D0%BA%D1%83%D1%80%D1%80%D0%B5%D0%BD%D1%82%D0%BD%D1%8B%D0%B5_%D1%81%D0%B5%D1%82%D0%B8_2.ipynb#X32sZmlsZQ%3D%3D?line=0'>1</a>\u001b[0m \u001b[39mdef\u001b[39;00m \u001b[39msample\u001b[39m(preds):\n\u001b[0;32m      <a href='vscode-notebook-cell:/c%3A/Users/%D0%90%D0%BD%D0%B0%D1%82%D0%BE%D0%BB%D0%B8%D0%B9/Documents/GitHub/Lesson/%D0%A0%D0%B5%D0%BA%D1%83%D1%80%D1%80%D0%B5%D0%BD%D1%82%D0%BD%D1%8B%D0%B5_%D1%81%D0%B5%D1%82%D0%B8/%D0%97%D0%B0%D0%BD%D1%8F%D1%82%D0%B8%D0%B5_6_%D0%A0%D0%B5%D0%BA%D1%83%D1%80%D1%80%D0%B5%D0%BD%D1%82%D0%BD%D1%8B%D0%B5_%D1%81%D0%B5%D1%82%D0%B8_2.ipynb#X32sZmlsZQ%3D%3D?line=1'>2</a>\u001b[0m     softmaxed \u001b[39m=\u001b[39m torch\u001b[39m.\u001b[39msoftmax(preds, \u001b[39m0\u001b[39m)\n\u001b[1;32m----> <a href='vscode-notebook-cell:/c%3A/Users/%D0%90%D0%BD%D0%B0%D1%82%D0%BE%D0%BB%D0%B8%D0%B9/Documents/GitHub/Lesson/%D0%A0%D0%B5%D0%BA%D1%83%D1%80%D1%80%D0%B5%D0%BD%D1%82%D0%BD%D1%8B%D0%B5_%D1%81%D0%B5%D1%82%D0%B8/%D0%97%D0%B0%D0%BD%D1%8F%D1%82%D0%B8%D0%B5_6_%D0%A0%D0%B5%D0%BA%D1%83%D1%80%D1%80%D0%B5%D0%BD%D1%82%D0%BD%D1%8B%D0%B5_%D1%81%D0%B5%D1%82%D0%B8_2.ipynb#X32sZmlsZQ%3D%3D?line=2'>3</a>\u001b[0m     probas \u001b[39m=\u001b[39m torch\u001b[39m.\u001b[39;49mdistributions\u001b[39m.\u001b[39;49mmultinomial\u001b[39m.\u001b[39;49mMultinomial(\u001b[39m1\u001b[39;49m, softmaxed)\u001b[39m.\u001b[39msample()\n\u001b[0;32m      <a href='vscode-notebook-cell:/c%3A/Users/%D0%90%D0%BD%D0%B0%D1%82%D0%BE%D0%BB%D0%B8%D0%B9/Documents/GitHub/Lesson/%D0%A0%D0%B5%D0%BA%D1%83%D1%80%D1%80%D0%B5%D0%BD%D1%82%D0%BD%D1%8B%D0%B5_%D1%81%D0%B5%D1%82%D0%B8/%D0%97%D0%B0%D0%BD%D1%8F%D1%82%D0%B8%D0%B5_6_%D0%A0%D0%B5%D0%BA%D1%83%D1%80%D1%80%D0%B5%D0%BD%D1%82%D0%BD%D1%8B%D0%B5_%D1%81%D0%B5%D1%82%D0%B8_2.ipynb#X32sZmlsZQ%3D%3D?line=3'>4</a>\u001b[0m     \u001b[39mreturn\u001b[39;00m probas\u001b[39m.\u001b[39margmax()\n",
            "File \u001b[1;32mc:\\Users\\Анатолий\\source\\repos\\PyTorchtest\\PyTorchtest\\TorchEnv\\Lib\\site-packages\\torch\\distributions\\multinomial.py:63\u001b[0m, in \u001b[0;36mMultinomial.__init__\u001b[1;34m(self, total_count, probs, logits, validate_args)\u001b[0m\n\u001b[0;32m     61\u001b[0m     \u001b[39mraise\u001b[39;00m \u001b[39mNotImplementedError\u001b[39;00m(\u001b[39m\"\u001b[39m\u001b[39minhomogeneous total_count is not supported\u001b[39m\u001b[39m\"\u001b[39m)\n\u001b[0;32m     62\u001b[0m \u001b[39mself\u001b[39m\u001b[39m.\u001b[39mtotal_count \u001b[39m=\u001b[39m total_count\n\u001b[1;32m---> 63\u001b[0m \u001b[39mself\u001b[39m\u001b[39m.\u001b[39m_categorical \u001b[39m=\u001b[39m Categorical(probs\u001b[39m=\u001b[39;49mprobs, logits\u001b[39m=\u001b[39;49mlogits)\n\u001b[0;32m     64\u001b[0m \u001b[39mself\u001b[39m\u001b[39m.\u001b[39m_binomial \u001b[39m=\u001b[39m Binomial(total_count\u001b[39m=\u001b[39mtotal_count, probs\u001b[39m=\u001b[39m\u001b[39mself\u001b[39m\u001b[39m.\u001b[39mprobs)\n\u001b[0;32m     65\u001b[0m batch_shape \u001b[39m=\u001b[39m \u001b[39mself\u001b[39m\u001b[39m.\u001b[39m_categorical\u001b[39m.\u001b[39mbatch_shape\n",
            "File \u001b[1;32mc:\\Users\\Анатолий\\source\\repos\\PyTorchtest\\PyTorchtest\\TorchEnv\\Lib\\site-packages\\torch\\distributions\\categorical.py:58\u001b[0m, in \u001b[0;36mCategorical.__init__\u001b[1;34m(self, probs, logits, validate_args)\u001b[0m\n\u001b[0;32m     56\u001b[0m \u001b[39mif\u001b[39;00m probs \u001b[39mis\u001b[39;00m \u001b[39mnot\u001b[39;00m \u001b[39mNone\u001b[39;00m:\n\u001b[0;32m     57\u001b[0m     \u001b[39mif\u001b[39;00m probs\u001b[39m.\u001b[39mdim() \u001b[39m<\u001b[39m \u001b[39m1\u001b[39m:\n\u001b[1;32m---> 58\u001b[0m         \u001b[39mraise\u001b[39;00m \u001b[39mValueError\u001b[39;00m(\u001b[39m\"\u001b[39m\u001b[39m`probs` parameter must be at least one-dimensional.\u001b[39m\u001b[39m\"\u001b[39m)\n\u001b[0;32m     59\u001b[0m     \u001b[39mself\u001b[39m\u001b[39m.\u001b[39mprobs \u001b[39m=\u001b[39m probs \u001b[39m/\u001b[39m probs\u001b[39m.\u001b[39msum(\u001b[39m-\u001b[39m\u001b[39m1\u001b[39m, keepdim\u001b[39m=\u001b[39m\u001b[39mTrue\u001b[39;00m)\n\u001b[0;32m     60\u001b[0m \u001b[39melse\u001b[39;00m:\n",
            "\u001b[1;31mValueError\u001b[0m: `probs` parameter must be at least one-dimensional."
          ]
        }
      ],
      "source": [
        "for ep in range(100):\n",
        "    start = time.time()\n",
        "    train_loss = 0.\n",
        "    train_passed = 0\n",
        "\n",
        "    model.train()\n",
        "    for X_b, y_b in data:\n",
        "        X_b, y_b = X_b.cuda(), y_b.cuda()\n",
        "        optimizer.zero_grad()\n",
        "        answers = model(X_b)\n",
        "        loss = criterion(answers, y_b)\n",
        "        train_loss += loss.item()\n",
        "\n",
        "        loss.backward()\n",
        "        optimizer.step()\n",
        "        train_passed += 1\n",
        "\n",
        "    print(\"Epoch {}. Time: {:.3f}, Train loss: {:.3f}\".format(ep, time.time() - start, train_loss / train_passed))\n",
        "    model.eval()\n",
        "    generate_text()"
      ]
    },
    {
      "cell_type": "code",
      "execution_count": null,
      "metadata": {
        "id": "zzUTHB9O_H6J"
      },
      "outputs": [],
      "source": []
    }
  ],
  "metadata": {
    "accelerator": "GPU",
    "colab": {
      "collapsed_sections": [],
      "name": "Занятие 6. Рекуррентные сети 2.ipynb",
      "provenance": []
    },
    "kernelspec": {
      "display_name": "Python 3",
      "name": "python3"
    },
    "language_info": {
      "codemirror_mode": {
        "name": "ipython",
        "version": 3
      },
      "file_extension": ".py",
      "mimetype": "text/x-python",
      "name": "python",
      "nbconvert_exporter": "python",
      "pygments_lexer": "ipython3",
      "version": "3.11.4"
    }
  },
  "nbformat": 4,
  "nbformat_minor": 0
}
