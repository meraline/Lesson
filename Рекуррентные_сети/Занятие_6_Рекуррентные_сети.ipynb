{
  "cells": [
    {
      "cell_type": "markdown",
      "metadata": {
        "id": "rNzdSQVo9l_q"
      },
      "source": [
        "# Рекуррентные нейросети\n",
        "\n",
        "Построим простейшую нейросеть для посимвольной генерации текста"
      ]
    },
    {
      "cell_type": "code",
      "execution_count": null,
      "metadata": {
        "ExecuteTime": {
          "end_time": "2020-03-12T15:11:51.143288Z",
          "start_time": "2020-03-12T15:11:49.649354Z"
        },
        "id": "uB1QEk1gm1oW"
      },
      "outputs": [],
      "source": [
        "import pandas as pd  # для работы с данными\n",
        "import time  # для оценки времени\n",
        "import torch  # для написания нейросети"
      ]
    },
    {
      "cell_type": "markdown",
      "metadata": {
        "id": "c3aOx64Mm1oZ"
      },
      "source": [
        "## Загрузка данных\n",
        "\n",
        "Будем работать с датасетом реплик из Симпсонов. Нам нужно извлечь предобработанные тексты и закодировать их числами"
      ]
    },
    {
      "cell_type": "code",
      "execution_count": null,
      "metadata": {
        "ExecuteTime": {
          "end_time": "2020-03-12T15:12:00.685533Z",
          "start_time": "2020-03-12T15:12:00.591616Z"
        },
        "colab": {
          "base_uri": "https://localhost:8080/",
          "height": 613
        },
        "id": "duHW4TnGm1ob",
        "outputId": "2c6640cd-d0f3-4857-a3e2-79e7d82c917c"
      },
      "outputs": [
        {
          "data": {
            "text/html": [
              "\n",
              "  <div id=\"df-a5464d7c-78ee-4947-8aa5-a17ed9cd8006\">\n",
              "    <div class=\"colab-df-container\">\n",
              "      <div>\n",
              "<style scoped>\n",
              "    .dataframe tbody tr th:only-of-type {\n",
              "        vertical-align: middle;\n",
              "    }\n",
              "\n",
              "    .dataframe tbody tr th {\n",
              "        vertical-align: top;\n",
              "    }\n",
              "\n",
              "    .dataframe thead th {\n",
              "        text-align: right;\n",
              "    }\n",
              "</style>\n",
              "<table border=\"1\" class=\"dataframe\">\n",
              "  <thead>\n",
              "    <tr style=\"text-align: right;\">\n",
              "      <th></th>\n",
              "      <th>Unnamed: 0</th>\n",
              "      <th>id</th>\n",
              "      <th>episode_id</th>\n",
              "      <th>number</th>\n",
              "      <th>raw_text</th>\n",
              "      <th>timestamp_in_ms</th>\n",
              "      <th>speaking_line</th>\n",
              "      <th>character_id</th>\n",
              "      <th>location_id</th>\n",
              "      <th>raw_character_text</th>\n",
              "      <th>raw_location_text</th>\n",
              "      <th>spoken_words</th>\n",
              "      <th>normalized_text</th>\n",
              "      <th>word_count</th>\n",
              "    </tr>\n",
              "  </thead>\n",
              "  <tbody>\n",
              "    <tr>\n",
              "      <th>0</th>\n",
              "      <td>0</td>\n",
              "      <td>10368</td>\n",
              "      <td>35</td>\n",
              "      <td>29</td>\n",
              "      <td>Lisa Simpson: Maggie, look. What's that?</td>\n",
              "      <td>235000</td>\n",
              "      <td>True</td>\n",
              "      <td>9</td>\n",
              "      <td>5.0</td>\n",
              "      <td>Lisa Simpson</td>\n",
              "      <td>Simpson Home</td>\n",
              "      <td>Maggie, look. What's that?</td>\n",
              "      <td>maggie look whats that</td>\n",
              "      <td>4.0</td>\n",
              "    </tr>\n",
              "    <tr>\n",
              "      <th>1</th>\n",
              "      <td>1</td>\n",
              "      <td>10369</td>\n",
              "      <td>35</td>\n",
              "      <td>30</td>\n",
              "      <td>Lisa Simpson: Lee-mur. Lee-mur.</td>\n",
              "      <td>237000</td>\n",
              "      <td>True</td>\n",
              "      <td>9</td>\n",
              "      <td>5.0</td>\n",
              "      <td>Lisa Simpson</td>\n",
              "      <td>Simpson Home</td>\n",
              "      <td>Lee-mur. Lee-mur.</td>\n",
              "      <td>lee-mur lee-mur</td>\n",
              "      <td>2.0</td>\n",
              "    </tr>\n",
              "    <tr>\n",
              "      <th>2</th>\n",
              "      <td>2</td>\n",
              "      <td>10370</td>\n",
              "      <td>35</td>\n",
              "      <td>31</td>\n",
              "      <td>Lisa Simpson: Zee-boo. Zee-boo.</td>\n",
              "      <td>239000</td>\n",
              "      <td>True</td>\n",
              "      <td>9</td>\n",
              "      <td>5.0</td>\n",
              "      <td>Lisa Simpson</td>\n",
              "      <td>Simpson Home</td>\n",
              "      <td>Zee-boo. Zee-boo.</td>\n",
              "      <td>zee-boo zee-boo</td>\n",
              "      <td>2.0</td>\n",
              "    </tr>\n",
              "    <tr>\n",
              "      <th>3</th>\n",
              "      <td>3</td>\n",
              "      <td>10372</td>\n",
              "      <td>35</td>\n",
              "      <td>33</td>\n",
              "      <td>Lisa Simpson: I'm trying to teach Maggie that ...</td>\n",
              "      <td>245000</td>\n",
              "      <td>True</td>\n",
              "      <td>9</td>\n",
              "      <td>5.0</td>\n",
              "      <td>Lisa Simpson</td>\n",
              "      <td>Simpson Home</td>\n",
              "      <td>I'm trying to teach Maggie that nature doesn't...</td>\n",
              "      <td>im trying to teach maggie that nature doesnt e...</td>\n",
              "      <td>24.0</td>\n",
              "    </tr>\n",
              "    <tr>\n",
              "      <th>4</th>\n",
              "      <td>4</td>\n",
              "      <td>10374</td>\n",
              "      <td>35</td>\n",
              "      <td>35</td>\n",
              "      <td>Lisa Simpson: It's like an ox, only it has a h...</td>\n",
              "      <td>254000</td>\n",
              "      <td>True</td>\n",
              "      <td>9</td>\n",
              "      <td>5.0</td>\n",
              "      <td>Lisa Simpson</td>\n",
              "      <td>Simpson Home</td>\n",
              "      <td>It's like an ox, only it has a hump and a dewl...</td>\n",
              "      <td>its like an ox only it has a hump and a dewlap...</td>\n",
              "      <td>18.0</td>\n",
              "    </tr>\n",
              "  </tbody>\n",
              "</table>\n",
              "</div>\n",
              "      <button class=\"colab-df-convert\" onclick=\"convertToInteractive('df-a5464d7c-78ee-4947-8aa5-a17ed9cd8006')\"\n",
              "              title=\"Convert this dataframe to an interactive table.\"\n",
              "              style=\"display:none;\">\n",
              "        \n",
              "  <svg xmlns=\"http://www.w3.org/2000/svg\" height=\"24px\"viewBox=\"0 0 24 24\"\n",
              "       width=\"24px\">\n",
              "    <path d=\"M0 0h24v24H0V0z\" fill=\"none\"/>\n",
              "    <path d=\"M18.56 5.44l.94 2.06.94-2.06 2.06-.94-2.06-.94-.94-2.06-.94 2.06-2.06.94zm-11 1L8.5 8.5l.94-2.06 2.06-.94-2.06-.94L8.5 2.5l-.94 2.06-2.06.94zm10 10l.94 2.06.94-2.06 2.06-.94-2.06-.94-.94-2.06-.94 2.06-2.06.94z\"/><path d=\"M17.41 7.96l-1.37-1.37c-.4-.4-.92-.59-1.43-.59-.52 0-1.04.2-1.43.59L10.3 9.45l-7.72 7.72c-.78.78-.78 2.05 0 2.83L4 21.41c.39.39.9.59 1.41.59.51 0 1.02-.2 1.41-.59l7.78-7.78 2.81-2.81c.8-.78.8-2.07 0-2.86zM5.41 20L4 18.59l7.72-7.72 1.47 1.35L5.41 20z\"/>\n",
              "  </svg>\n",
              "      </button>\n",
              "      \n",
              "  <style>\n",
              "    .colab-df-container {\n",
              "      display:flex;\n",
              "      flex-wrap:wrap;\n",
              "      gap: 12px;\n",
              "    }\n",
              "\n",
              "    .colab-df-convert {\n",
              "      background-color: #E8F0FE;\n",
              "      border: none;\n",
              "      border-radius: 50%;\n",
              "      cursor: pointer;\n",
              "      display: none;\n",
              "      fill: #1967D2;\n",
              "      height: 32px;\n",
              "      padding: 0 0 0 0;\n",
              "      width: 32px;\n",
              "    }\n",
              "\n",
              "    .colab-df-convert:hover {\n",
              "      background-color: #E2EBFA;\n",
              "      box-shadow: 0px 1px 2px rgba(60, 64, 67, 0.3), 0px 1px 3px 1px rgba(60, 64, 67, 0.15);\n",
              "      fill: #174EA6;\n",
              "    }\n",
              "\n",
              "    [theme=dark] .colab-df-convert {\n",
              "      background-color: #3B4455;\n",
              "      fill: #D2E3FC;\n",
              "    }\n",
              "\n",
              "    [theme=dark] .colab-df-convert:hover {\n",
              "      background-color: #434B5C;\n",
              "      box-shadow: 0px 1px 3px 1px rgba(0, 0, 0, 0.15);\n",
              "      filter: drop-shadow(0px 1px 2px rgba(0, 0, 0, 0.3));\n",
              "      fill: #FFFFFF;\n",
              "    }\n",
              "  </style>\n",
              "\n",
              "      <script>\n",
              "        const buttonEl =\n",
              "          document.querySelector('#df-a5464d7c-78ee-4947-8aa5-a17ed9cd8006 button.colab-df-convert');\n",
              "        buttonEl.style.display =\n",
              "          google.colab.kernel.accessAllowed ? 'block' : 'none';\n",
              "\n",
              "        async function convertToInteractive(key) {\n",
              "          const element = document.querySelector('#df-a5464d7c-78ee-4947-8aa5-a17ed9cd8006');\n",
              "          const dataTable =\n",
              "            await google.colab.kernel.invokeFunction('convertToInteractive',\n",
              "                                                     [key], {});\n",
              "          if (!dataTable) return;\n",
              "\n",
              "          const docLinkHtml = 'Like what you see? Visit the ' +\n",
              "            '<a target=\"_blank\" href=https://colab.research.google.com/notebooks/data_table.ipynb>data table notebook</a>'\n",
              "            + ' to learn more about interactive tables.';\n",
              "          element.innerHTML = '';\n",
              "          dataTable['output_type'] = 'display_data';\n",
              "          await google.colab.output.renderOutput(dataTable, element);\n",
              "          const docLink = document.createElement('div');\n",
              "          docLink.innerHTML = docLinkHtml;\n",
              "          element.appendChild(docLink);\n",
              "        }\n",
              "      </script>\n",
              "    </div>\n",
              "  </div>\n",
              "  "
            ],
            "text/plain": [
              "   Unnamed: 0     id  episode_id  number  \\\n",
              "0           0  10368          35      29   \n",
              "1           1  10369          35      30   \n",
              "2           2  10370          35      31   \n",
              "3           3  10372          35      33   \n",
              "4           4  10374          35      35   \n",
              "\n",
              "                                            raw_text  timestamp_in_ms  \\\n",
              "0           Lisa Simpson: Maggie, look. What's that?           235000   \n",
              "1                    Lisa Simpson: Lee-mur. Lee-mur.           237000   \n",
              "2                    Lisa Simpson: Zee-boo. Zee-boo.           239000   \n",
              "3  Lisa Simpson: I'm trying to teach Maggie that ...           245000   \n",
              "4  Lisa Simpson: It's like an ox, only it has a h...           254000   \n",
              "\n",
              "   speaking_line  character_id  location_id raw_character_text  \\\n",
              "0           True             9          5.0       Lisa Simpson   \n",
              "1           True             9          5.0       Lisa Simpson   \n",
              "2           True             9          5.0       Lisa Simpson   \n",
              "3           True             9          5.0       Lisa Simpson   \n",
              "4           True             9          5.0       Lisa Simpson   \n",
              "\n",
              "  raw_location_text                                       spoken_words  \\\n",
              "0      Simpson Home                         Maggie, look. What's that?   \n",
              "1      Simpson Home                                  Lee-mur. Lee-mur.   \n",
              "2      Simpson Home                                  Zee-boo. Zee-boo.   \n",
              "3      Simpson Home  I'm trying to teach Maggie that nature doesn't...   \n",
              "4      Simpson Home  It's like an ox, only it has a hump and a dewl...   \n",
              "\n",
              "                                     normalized_text  word_count  \n",
              "0                             maggie look whats that         4.0  \n",
              "1                                    lee-mur lee-mur         2.0  \n",
              "2                                    zee-boo zee-boo         2.0  \n",
              "3  im trying to teach maggie that nature doesnt e...        24.0  \n",
              "4  its like an ox only it has a hump and a dewlap...        18.0  "
            ]
          },
          "execution_count": 61,
          "metadata": {},
          "output_type": "execute_result"
        }
      ],
      "source": [
        "df = pd.read_csv('data.csv')\n",
        "df.head()"
      ]
    },
    {
      "cell_type": "code",
      "execution_count": null,
      "metadata": {
        "ExecuteTime": {
          "end_time": "2020-03-12T15:12:15.820742Z",
          "start_time": "2020-03-12T15:12:15.809523Z"
        },
        "colab": {
          "base_uri": "https://localhost:8080/"
        },
        "id": "gjSdDLcSm1oc",
        "outputId": "6c4b9cb4-832b-427a-a6ba-7deca7c9c216"
      },
      "outputs": [
        {
          "data": {
            "text/plain": [
              "['maggie look whats that',\n",
              " 'lee-mur lee-mur',\n",
              " 'zee-boo zee-boo',\n",
              " 'im trying to teach maggie that nature doesnt end with the barnyard i want her to have all the advantages that i didnt have',\n",
              " 'its like an ox only it has a hump and a dewlap hump and dew-lap hump and dew-lap',\n",
              " 'you know his blood type how romantic',\n",
              " 'oh yeah whats my shoe size',\n",
              " 'ring',\n",
              " 'yes dad',\n",
              " 'ooh look maggie what is that do-dec-ah-edron dodecahedron']"
            ]
          },
          "execution_count": 62,
          "metadata": {},
          "output_type": "execute_result"
        }
      ],
      "source": [
        "phrases = df['normalized_text'].tolist()  # колонка с предобработанными текстами\n",
        "phrases[:10]"
      ]
    },
    {
      "cell_type": "code",
      "execution_count": null,
      "metadata": {
        "ExecuteTime": {
          "end_time": "2020-03-12T15:12:32.809563Z",
          "start_time": "2020-03-12T15:12:32.768140Z"
        },
        "id": "1ChXCEWwm1od"
      },
      "outputs": [],
      "source": [
        "text = [[c for c in ph] for ph in phrases if type(ph) is str]"
      ]
    },
    {
      "cell_type": "markdown",
      "metadata": {
        "id": "jAQEsntvm1od"
      },
      "source": [
        "## Создаём массив с данными\n",
        "\n",
        "Нужно\n",
        "\n",
        "1. Разбить данные на токены (у нас символы)\n",
        "2. Закодировать числами\n",
        "3. Превратить в эмбеддинги"
      ]
    },
    {
      "cell_type": "code",
      "execution_count": null,
      "metadata": {
        "ExecuteTime": {
          "end_time": "2020-03-12T15:12:53.641351Z",
          "start_time": "2020-03-12T15:12:53.636757Z"
        },
        "id": "ZnCuSmHym1od"
      },
      "outputs": [],
      "source": [
        "CHARS = set('abcdefghijklmnopqrstuvwxyz ')  # все символы, которые мы хотим использовать для кодировки = наш словарь\n",
        "INDEX_TO_CHAR = ['none'] + [w for w in CHARS]  # все неизвестные символы будут получать тег none\n",
        "CHAR_TO_INDEX = {w: i for i, w in enumerate(INDEX_TO_CHAR)}  # словарь токен-индекс"
      ]
    },
    {
      "cell_type": "code",
      "execution_count": null,
      "metadata": {
        "colab": {
          "base_uri": "https://localhost:8080/"
        },
        "id": "vp5hyfQMIXUe",
        "outputId": "e06f0b3d-cef5-4fc8-8105-7139f9e264e0"
      },
      "outputs": [
        {
          "data": {
            "text/plain": [
              "28"
            ]
          },
          "execution_count": 65,
          "metadata": {},
          "output_type": "execute_result"
        }
      ],
      "source": [
        "len(INDEX_TO_CHAR)"
      ]
    },
    {
      "cell_type": "code",
      "execution_count": null,
      "metadata": {
        "ExecuteTime": {
          "end_time": "2020-03-12T15:13:58.918002Z",
          "start_time": "2020-03-12T15:13:55.602551Z"
        },
        "id": "Z8_Kqpjnm1oe"
      },
      "outputs": [],
      "source": [
        "MAX_LEN = 50  # мы хотим ограничить максимальную длину ввода\n",
        "X = torch.zeros((len(text), MAX_LEN), dtype=int)  # создаём пустой вектор для текста, чтобы класть в него индексы токенов\n",
        "for i in range(len(text)):  # для каждого предложения\n",
        "    for j, w in enumerate(text[i]):  # для каждого токена\n",
        "        if j >= MAX_LEN:\n",
        "            break\n",
        "        X[i, j] = CHAR_TO_INDEX.get(w, CHAR_TO_INDEX['none'])"
      ]
    },
    {
      "cell_type": "code",
      "execution_count": null,
      "metadata": {
        "ExecuteTime": {
          "end_time": "2020-03-12T15:14:24.776980Z",
          "start_time": "2020-03-12T15:14:24.761649Z"
        },
        "colab": {
          "base_uri": "https://localhost:8080/"
        },
        "id": "UZ_pRDrHm1of",
        "outputId": "9734429d-3a11-4f24-91d0-c8e7e1b6e64a",
        "scrolled": true
      },
      "outputs": [
        {
          "data": {
            "text/plain": [
              "tensor([[ 2,  8, 14, 14, 12,  5,  1, 23, 21, 21, 26,  1, 19, 24,  8, 13, 10,  1,\n",
              "         13, 24,  8, 13,  0,  0,  0,  0,  0,  0,  0,  0,  0,  0,  0,  0,  0,  0,\n",
              "          0,  0,  0,  0,  0,  0,  0,  0,  0,  0,  0,  0,  0,  0],\n",
              "        [23,  5,  5,  0,  2, 16,  7,  1, 23,  5,  5,  0,  2, 16,  7,  0,  0,  0,\n",
              "          0,  0,  0,  0,  0,  0,  0,  0,  0,  0,  0,  0,  0,  0,  0,  0,  0,  0,\n",
              "          0,  0,  0,  0,  0,  0,  0,  0,  0,  0,  0,  0,  0,  0],\n",
              "        [ 4,  5,  5,  0,  6, 21, 21,  1,  4,  5,  5,  0,  6, 21, 21,  0,  0,  0,\n",
              "          0,  0,  0,  0,  0,  0,  0,  0,  0,  0,  0,  0,  0,  0,  0,  0,  0,  0,\n",
              "          0,  0,  0,  0,  0,  0,  0,  0,  0,  0,  0,  0,  0,  0],\n",
              "        [12,  2,  1, 13,  7, 18, 12, 20, 14,  1, 13, 21,  1, 13,  5,  8, 22, 24,\n",
              "          1,  2,  8, 14, 14, 12,  5,  1, 13, 24,  8, 13,  1, 20,  8, 13, 16,  7,\n",
              "          5,  1, 11, 21,  5, 10, 20, 13,  1,  5, 20, 11,  1, 19],\n",
              "        [12, 13, 10,  1, 23, 12, 26,  5,  1,  8, 20,  1, 21, 27,  1, 21, 20, 23,\n",
              "         18,  1, 12, 13,  1, 24,  8, 10,  1,  8,  1, 24, 16,  2,  3,  1,  8, 20,\n",
              "         11,  1,  8,  1, 11,  5, 19, 23,  8,  3,  1, 24, 16,  2]])"
            ]
          },
          "execution_count": 67,
          "metadata": {},
          "output_type": "execute_result"
        }
      ],
      "source": [
        "X[0:5]"
      ]
    },
    {
      "cell_type": "markdown",
      "metadata": {
        "id": "_j4Fpnr2m1of"
      },
      "source": [
        "## Embedding и RNN ячейки\n",
        "\n",
        "Каждому токену мы хотим сопоставить не просто число, но вектор. Поэтому вектор текста нам нужно умножить на матрицу эмбеддингов, которая тоже будет учиться в процессе обучения нейросети. Для создания такой матрицы нам нужен слой `nn.Embedding`"
      ]
    },
    {
      "cell_type": "code",
      "execution_count": null,
      "metadata": {
        "colab": {
          "base_uri": "https://localhost:8080/"
        },
        "id": "49DO7kkNqtVK",
        "outputId": "45118f6e-d023-459c-ce30-c86567e1e06f"
      },
      "outputs": [
        {
          "data": {
            "text/plain": [
              "torch.Size([5, 50])"
            ]
          },
          "execution_count": 68,
          "metadata": {},
          "output_type": "execute_result"
        }
      ],
      "source": [
        "X[0:5].shape"
      ]
    },
    {
      "cell_type": "code",
      "execution_count": null,
      "metadata": {
        "ExecuteTime": {
          "end_time": "2020-03-12T15:14:15.694973Z",
          "start_time": "2020-03-12T15:14:15.644024Z"
        },
        "colab": {
          "base_uri": "https://localhost:8080/"
        },
        "id": "grMla_CJm1og",
        "outputId": "5e59a467-0e56-4686-823e-0c34f490c606"
      },
      "outputs": [
        {
          "data": {
            "text/plain": [
              "torch.Size([5, 50, 28])"
            ]
          },
          "execution_count": 69,
          "metadata": {},
          "output_type": "execute_result"
        }
      ],
      "source": [
        "embeddings = torch.nn.Embedding(len(INDEX_TO_CHAR), 28)  # размер словаря * размер вектора для кодировки каждого слова\n",
        "t = embeddings(X[0:5])\n",
        "t.shape"
      ]
    },
    {
      "cell_type": "code",
      "execution_count": null,
      "metadata": {
        "ExecuteTime": {
          "end_time": "2020-03-12T15:14:48.405046Z",
          "start_time": "2020-03-12T15:14:48.400041Z"
        },
        "colab": {
          "base_uri": "https://localhost:8080/"
        },
        "id": "28tafLrcm1og",
        "outputId": "800c5658-b33e-49f6-9854-d5b9862fe141"
      },
      "outputs": [
        {
          "data": {
            "text/plain": [
              "(torch.Size([5, 50, 28]), torch.Size([5, 50]))"
            ]
          },
          "execution_count": 70,
          "metadata": {},
          "output_type": "execute_result"
        }
      ],
      "source": [
        "t.shape, X[0:5].shape"
      ]
    },
    {
      "cell_type": "code",
      "execution_count": null,
      "metadata": {
        "ExecuteTime": {
          "end_time": "2020-03-12T15:18:23.190978Z",
          "start_time": "2020-03-12T15:18:23.180493Z"
        },
        "colab": {
          "base_uri": "https://localhost:8080/"
        },
        "id": "PdGchJjim1oh",
        "outputId": "c1b1e6ca-d6b1-4a65-89cd-b334754537c6"
      },
      "outputs": [
        {
          "data": {
            "text/plain": [
              "(torch.Size([5, 50, 128]), torch.Size([1, 5, 128]))"
            ]
          },
          "execution_count": 50,
          "metadata": {},
          "output_type": "execute_result"
        }
      ],
      "source": [
        "rnn = torch.nn.RNN(28, 128, batch_first=True)  # на вход - размер эмбеддинга, размер скрытого состояния и порядок размерностей\n",
        "o, s = rnn(t)\n",
        "# вектора для слов: батч * число токенов * размер скрытого состояния\n",
        "# вектор скрытого состояния: число вектров (один) * батч * размер скрытого состояния\n",
        "o.shape, s.shape"
      ]
    },
    {
      "cell_type": "markdown",
      "metadata": {
        "id": "n7JUp4QuCQZu"
      },
      "source": [
        "Можно применять несколько рекуррентных ячеек подряд"
      ]
    },
    {
      "cell_type": "code",
      "execution_count": null,
      "metadata": {
        "ExecuteTime": {
          "end_time": "2020-03-12T15:18:35.190131Z",
          "start_time": "2020-03-12T15:18:35.180708Z"
        },
        "colab": {
          "base_uri": "https://localhost:8080/"
        },
        "id": "kdLW-BSsm1oh",
        "outputId": "c385efe3-764c-4bcd-93b8-ef4d8a68f85c"
      },
      "outputs": [
        {
          "data": {
            "text/plain": [
              "(torch.Size([5, 50, 128]), torch.Size([1, 5, 128]))"
            ]
          },
          "execution_count": 71,
          "metadata": {},
          "output_type": "execute_result"
        }
      ],
      "source": [
        "o, s2 = rnn(t, s)\n",
        "o.shape, s2.shape"
      ]
    },
    {
      "cell_type": "markdown",
      "metadata": {
        "id": "ghow-s0Gm1oi"
      },
      "source": [
        "## Реализация сети с RNN\n",
        "3 слоя:\n",
        "1. Embeding (30)\n",
        "2. RNN (hidden_dim=128)\n",
        "3. Полносвязный слой для предсказания буквы (28, то есть размер словаря)"
      ]
    },
    {
      "cell_type": "code",
      "execution_count": null,
      "metadata": {
        "ExecuteTime": {
          "end_time": "2020-03-12T15:26:45.716418Z",
          "start_time": "2020-03-12T15:26:45.710937Z"
        },
        "id": "Z9toGCkOm1oi"
      },
      "outputs": [],
      "source": [
        "class Network(torch.nn.Module):\n",
        "    def __init__(self):\n",
        "        super(Network, self).__init__()\n",
        "        self.embedding = torch.nn.Embedding(28, 30)\n",
        "        self.rnn = torch.nn.RNN(30, 128)\n",
        "        self.out = torch.nn.Linear(128, 28)\n",
        "\n",
        "    def forward(self, sentences, state=None):\n",
        "        x = self.embedding(sentences)\n",
        "        x, s = self.rnn(x) # берём выход с последнего слоя для всех токенов, а не скрытое состояние\n",
        "        return self.out(x)"
      ]
    },
    {
      "cell_type": "code",
      "execution_count": null,
      "metadata": {
        "ExecuteTime": {
          "end_time": "2020-03-12T15:20:53.260599Z",
          "start_time": "2020-03-12T15:20:53.256979Z"
        },
        "id": "f6aCazQOm1oi"
      },
      "outputs": [],
      "source": [
        "model = Network()"
      ]
    },
    {
      "cell_type": "code",
      "execution_count": null,
      "metadata": {
        "ExecuteTime": {
          "end_time": "2020-03-12T15:21:01.929404Z",
          "start_time": "2020-03-12T15:21:01.925999Z"
        },
        "id": "HmdNPJEWm1oj"
      },
      "outputs": [],
      "source": [
        "criterion = torch.nn.CrossEntropyLoss()  # типичный лосс многоклассовой классификации\n",
        "optimizer = torch.optim.SGD(model.parameters(), lr=.05)"
      ]
    },
    {
      "cell_type": "markdown",
      "metadata": {
        "id": "-J6XXp0gDUOO"
      },
      "source": [
        "Обучение:"
      ]
    },
    {
      "cell_type": "code",
      "execution_count": null,
      "metadata": {
        "ExecuteTime": {
          "end_time": "2020-03-12T15:22:04.410583Z",
          "start_time": "2020-03-12T15:21:34.734119Z"
        },
        "colab": {
          "base_uri": "https://localhost:8080/"
        },
        "id": "o7zbPtfLm1oj",
        "outputId": "0a5e6dee-4356-4350-8c23-ab8ca1542eaa",
        "scrolled": true
      },
      "outputs": [
        {
          "name": "stdout",
          "output_type": "stream",
          "text": [
            "Epoch 0. Time: 3.709, Train loss: 2.114\n",
            "Epoch 1. Time: 3.759, Train loss: 1.852\n",
            "Epoch 2. Time: 4.396, Train loss: 1.798\n",
            "Epoch 3. Time: 3.662, Train loss: 1.767\n",
            "Epoch 4. Time: 3.674, Train loss: 1.746\n",
            "Epoch 5. Time: 4.623, Train loss: 1.731\n",
            "Epoch 6. Time: 3.593, Train loss: 1.719\n",
            "Epoch 7. Time: 3.571, Train loss: 1.710\n",
            "Epoch 8. Time: 4.562, Train loss: 1.703\n",
            "Epoch 9. Time: 3.611, Train loss: 1.697\n",
            "Epoch 10. Time: 3.521, Train loss: 1.691\n",
            "Epoch 11. Time: 3.872, Train loss: 1.687\n",
            "Epoch 12. Time: 4.277, Train loss: 1.683\n",
            "Epoch 13. Time: 3.543, Train loss: 1.680\n",
            "Epoch 14. Time: 3.512, Train loss: 1.676\n",
            "Epoch 15. Time: 4.583, Train loss: 1.674\n",
            "Epoch 16. Time: 3.855, Train loss: 1.671\n",
            "Epoch 17. Time: 3.611, Train loss: 1.669\n",
            "Epoch 18. Time: 4.587, Train loss: 1.667\n",
            "Epoch 19. Time: 3.600, Train loss: 1.665\n"
          ]
        }
      ],
      "source": [
        "for ep in range(20):\n",
        "    start = time.time()\n",
        "    train_loss = 0.\n",
        "    train_passed = 0\n",
        "\n",
        "    for i in range(int(len(X) / 100)):\n",
        "        # берём батч в 100 элементов\n",
        "        batch = X[i * 100:(i + 1) * 100]\n",
        "        X_batch = batch[:, :-1]\n",
        "        Y_batch = batch[:, 1:].flatten()\n",
        "\n",
        "        optimizer.zero_grad()\n",
        "        answers = model.forward(X_batch)\n",
        "        answers = answers.view(-1, len(INDEX_TO_CHAR))\n",
        "        loss = criterion(answers, Y_batch)\n",
        "        train_loss += loss.item()\n",
        "\n",
        "        loss.backward()\n",
        "        optimizer.step()\n",
        "        train_passed += 1\n",
        "\n",
        "    print(\"Epoch {}. Time: {:.3f}, Train loss: {:.3f}\".format(ep, time.time() - start, train_loss / train_passed))"
      ]
    },
    {
      "cell_type": "markdown",
      "metadata": {
        "ExecuteTime": {
          "end_time": "2020-03-12T15:28:40.363097Z",
          "start_time": "2020-03-12T15:28:40.357998Z"
        },
        "id": "xP_GQWpkm1ok"
      },
      "source": [
        "## Генерация\n",
        "\n",
        "\n",
        "- Сначала отправлем в модель буквы из предложения (прогревая состояние)\n",
        "- Затем берём самую вероятную букву и добавляем её в предложение\n",
        "- Повторяем пока не получим none (0)"
      ]
    },
    {
      "cell_type": "code",
      "execution_count": null,
      "metadata": {
        "colab": {
          "base_uri": "https://localhost:8080/"
        },
        "id": "ybcHzCbUJs-R",
        "outputId": "0bbd0899-1325-4627-9bac-9dcc66a9ad41"
      },
      "outputs": [
        {
          "data": {
            "text/plain": [
              "0"
            ]
          },
          "execution_count": 76,
          "metadata": {},
          "output_type": "execute_result"
        }
      ],
      "source": [
        "CHAR_TO_INDEX['none']"
      ]
    },
    {
      "cell_type": "code",
      "execution_count": null,
      "metadata": {
        "id": "PuqijUpeL3eB"
      },
      "outputs": [],
      "source": [
        "def generate_sentence(word):\n",
        "    sentence = list(word)\n",
        "    sentence = [CHAR_TO_INDEX.get(s, 0) for s in sentence]\n",
        "    answers = model.forward(torch.tensor(sentence))\n",
        "    probas, indices = answers.topk(1)\n",
        "    return ''.join([INDEX_TO_CHAR[ind.item()] for ind in indices.flatten()])"
      ]
    },
    {
      "cell_type": "code",
      "execution_count": null,
      "metadata": {
        "colab": {
          "base_uri": "https://localhost:8080/",
          "height": 58
        },
        "id": "YpjZvuR_L92Z",
        "outputId": "84713f2b-6eef-451e-a28c-ea670e1e193f"
      },
      "outputs": [
        {
          "data": {
            "application/vnd.google.colaboratory.intrinsic+json": {
              "type": "string"
            },
            "text/plain": [
              "' u '"
            ]
          },
          "execution_count": 78,
          "metadata": {},
          "output_type": "execute_result"
        }
      ],
      "source": [
        "generate_sentence('dog')"
      ]
    },
    {
      "cell_type": "code",
      "execution_count": null,
      "metadata": {
        "colab": {
          "base_uri": "https://localhost:8080/",
          "height": 58
        },
        "id": "xqS7Y-z1HghE",
        "outputId": "2104f5a2-2f36-41e4-8ee5-4aeb2a63e1d7"
      },
      "outputs": [
        {
          "data": {
            "application/vnd.google.colaboratory.intrinsic+json": {
              "type": "string"
            },
            "text/plain": [
              "'nonehtn '"
            ]
          },
          "execution_count": 79,
          "metadata": {},
          "output_type": "execute_result"
        }
      ],
      "source": [
        "generate_sentence('It is')"
      ]
    }
  ],
  "metadata": {
    "colab": {
      "provenance": []
    },
    "kernelspec": {
      "display_name": "Python 3",
      "language": "python",
      "name": "python3"
    },
    "language_info": {
      "codemirror_mode": {
        "name": "ipython",
        "version": 3
      },
      "file_extension": ".py",
      "mimetype": "text/x-python",
      "name": "python",
      "nbconvert_exporter": "python",
      "pygments_lexer": "ipython3",
      "version": "3.11.4"
    }
  },
  "nbformat": 4,
  "nbformat_minor": 0
}
