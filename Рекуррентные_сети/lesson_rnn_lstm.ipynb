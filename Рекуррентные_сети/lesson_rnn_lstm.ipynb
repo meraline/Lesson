{
 "cells": [
  {
   "cell_type": "code",
   "execution_count": 79,
   "metadata": {},
   "outputs": [],
   "source": [
    "# импорт библиотек\n",
    "import torch\n",
    "import torch.nn as nn\n",
    "import torch.optim as optim\n",
    "from torch.utils.data import DataLoader, TensorDataset, random_split\n",
    "import numpy as np\n"
   ]
  },
  {
   "cell_type": "code",
   "execution_count": 80,
   "metadata": {},
   "outputs": [],
   "source": [
    "\n",
    "# Шаг 1: Подготовка данных\n",
    "\n",
    "# Функция для генерации последовательностей x и соответствующих y\n",
    "def generate_sequences(length):\n",
    "    x = torch.randint(0, 10, (length,))  # Генерируем случайную последовательность x с использованием torch\n",
    "    y = (x + x[0]) % 10  # Рассчитываем соответствующую последовательность y\n",
    "    return x, y\n",
    "\n",
    "# Генерация последовательностей разной длины\n",
    "x_10, y_10 = generate_sequences(10)\n",
    "x_40, y_40 = generate_sequences(40)\n",
    "x_80, y_80 = generate_sequences(80)"
   ]
  },
  {
   "cell_type": "code",
   "execution_count": 81,
   "metadata": {},
   "outputs": [],
   "source": [
    "def transform(sequences):\n",
    "    # Создаем новую матрицу того же размера, что и исходная, заполненную нулями\n",
    "    transformed = torch.zeros_like(sequences)\n",
    "\n",
    "    # Проходим по всем последовательностям\n",
    "    for i, sequence in enumerate(sequences):\n",
    "        # Присваиваем первый элемент напрямую\n",
    "        transformed[i, 0] = sequence[0]\n",
    "        # Вычисляем оставшиеся элементы\n",
    "        for j in range(1, len(sequence)):\n",
    "            transformed[i, j] = (sequence[j] + sequence[0]) % 10\n",
    "\n",
    "    return transformed"
   ]
  },
  {
   "cell_type": "code",
   "execution_count": 82,
   "metadata": {},
   "outputs": [],
   "source": [
    "# Функция для генерации набора данных\n",
    "def create_datasets(num_samples, sequence_lengths):\n",
    "    datasets = []\n",
    "    for length in sequence_lengths:\n",
    "        # Генерация данных для каждой длины последовательности\n",
    "        x_data = [generate_sequences(length)[0] for _ in range(num_samples)]\n",
    "        y_data = [generate_sequences(length)[1] for _ in range(num_samples)]\n",
    "        \n",
    "        # Преобразование в тензоры PyTorch\n",
    "        x_tensor = torch.stack(x_data)\n",
    "        y_tensor = torch.stack(y_data)\n",
    "        \n",
    "        # Создание TensorDataset\n",
    "        datasets.append(TensorDataset(x_tensor, y_tensor))\n",
    "    return datasets\n",
    "\n",
    "# Создание обучающих и тестовых наборов данных\n",
    "num_train_samples = 1000  # Количество образцов для обучения\n",
    "num_test_samples = 200   # Количество образцов для тестирования\n",
    "sequence_lengths = [10, 40, 80]  # Длины последовательностей\n",
    "\n",
    "train_datasets = create_datasets(num_train_samples, sequence_lengths)\n",
    "test_datasets = create_datasets(num_test_samples, sequence_lengths)\n",
    "\n",
    "# Теперь у вас есть список обучающих и тестовых наборов данных для разных длин последовательностей\n"
   ]
  },
  {
   "cell_type": "code",
   "execution_count": 83,
   "metadata": {},
   "outputs": [],
   "source": [
    "# Функция для создания даталоадера из последовательностей\n",
    "def create_dataloader(x, y, batch_size=32, shuffle=True):\n",
    "    dataset = TensorDataset(x, y)\n",
    "    return DataLoader(dataset, batch_size=batch_size, shuffle=shuffle)\n",
    "\n",
    "# Сначала сгенерируем последовательности\n",
    "x_10, y_10 = generate_sequences(10)\n",
    "x_40, y_40 = generate_sequences(40)\n",
    "x_80, y_80 = generate_sequences(80)\n",
    "\n",
    "# Применим функцию transform к каждой из них\n",
    "y_10_transformed = transform(x_10.unsqueeze(0))\n",
    "y_40_transformed = transform(x_40.unsqueeze(0))\n",
    "y_80_transformed = transform(x_80.unsqueeze(0))\n",
    "\n",
    "# Создадим даталоадеры для каждой пары последовательностей\n",
    "dataloader_10 = create_dataloader(x_10.unsqueeze(0), y_10_transformed, batch_size=1)\n",
    "dataloader_40 = create_dataloader(x_40.unsqueeze(0), y_40_transformed, batch_size=1)\n",
    "dataloader_80 = create_dataloader(x_80.unsqueeze(0), y_80_transformed, batch_size=1)\n",
    "\n",
    "# Теперь у нас есть три даталоадера, которые можно использовать для обучения модели или других целей.\n"
   ]
  },
  {
   "cell_type": "code",
   "execution_count": 84,
   "metadata": {},
   "outputs": [],
   "source": [
    "# Шаг 2: Определение архитектур моделей\n",
    "\n",
    "class MyRecurrentNet(nn.Module):\n",
    "    def __init__(self, rnn_class, seq_len, input_size, hidden_size, num_classes):\n",
    "        super(MyRecurrentNet, self).__init__()\n",
    "        self.embedding = nn.Embedding(10, input_size)\n",
    "        self.rnn = rnn_class(input_size=input_size, hidden_size=hidden_size, batch_first=True)\n",
    "        self.fc = nn.Linear(hidden_size, num_classes)\n",
    "        \n",
    "    def forward(self, x):\n",
    "        x = self.embedding(x)\n",
    "        out, _ = self.rnn(x)\n",
    "        # Теперь 'out' имеет размерность (batch_size, seq_len, hidden_size)\n",
    "        out = self.fc(out)\n",
    "        # 'out' после этого имеет размерность (batch_size, seq_len, num_classes)\n",
    "        return out\n"
   ]
  },
  {
   "cell_type": "code",
   "execution_count": 85,
   "metadata": {},
   "outputs": [],
   "source": [
    "model_MyLSTM = MyRecurrentNet(nn.LSTM, seq_len=10, input_size=10, hidden_size=64, num_classes=25)\n",
    "model_MyRNN = MyRecurrentNet(nn.RNN, seq_len=10, input_size=10, hidden_size=64, num_classes=25)\n",
    "model_MyGRU = MyRecurrentNet(nn.GRU, seq_len=10, input_size=10, hidden_size=64, num_classes=25)\n"
   ]
  },
  {
   "cell_type": "code",
   "execution_count": 86,
   "metadata": {},
   "outputs": [],
   "source": [
    "\n",
    "# Шаг 3: Обучение моделей\n",
    "\n",
    "# Функция для обучения модели\n",
    "def train_model(model, train_loader, criterion, optimizer, num_classes, num_epochs=10):\n",
    "    for epoch in range(num_epochs):\n",
    "        model.train()\n",
    "        for x, y in train_loader:\n",
    "            optimizer.zero_grad()\n",
    "            outputs = model(x)\n",
    "            # Преобразование выходных данных модели для соответствия размерности целевых данных\n",
    "            outputs = outputs.view(-1, num_classes)  # Размерность теперь [batch_size * sequence_length, num_classes]\n",
    "            y = y.view(-1)  # Преобразование y к одномерному вектору\n",
    "            # Вычисление потерь\n",
    "            loss = criterion(outputs, y.long())  # Убедитесь, что y имеет тип LongTensor\n",
    "            loss.backward()\n",
    "            optimizer.step()\n"
   ]
  },
  {
   "cell_type": "code",
   "execution_count": 87,
   "metadata": {},
   "outputs": [
    {
     "name": "stdout",
     "output_type": "stream",
     "text": [
      "Модель    Длина 10       Длина 40       Длина 80       \n"
     ]
    },
    {
     "ename": "ValueError",
     "evalue": "Expected input batch_size (640) to match target batch_size (64).",
     "output_type": "error",
     "traceback": [
      "\u001b[0;31m---------------------------------------------------------------------------\u001b[0m",
      "\u001b[0;31mValueError\u001b[0m                                Traceback (most recent call last)",
      "\u001b[1;32m/home/tofan/Документы/GitHub/Lesson/Рекуррентные_сети/lesson_rnn_lstm.ipynb Ячейка 9\u001b[0m line \u001b[0;36m4\n\u001b[1;32m     <a href='vscode-notebook-cell:/home/tofan/%D0%94%D0%BE%D0%BA%D1%83%D0%BC%D0%B5%D0%BD%D1%82%D1%8B/GitHub/Lesson/%D0%A0%D0%B5%D0%BA%D1%83%D1%80%D1%80%D0%B5%D0%BD%D1%82%D0%BD%D1%8B%D0%B5_%D1%81%D0%B5%D1%82%D0%B8/lesson_rnn_lstm.ipynb#W5sZmlsZQ%3D%3D?line=44'>45</a>\u001b[0m \u001b[39mif\u001b[39;00m y\u001b[39m.\u001b[39mndim \u001b[39m>\u001b[39m \u001b[39m1\u001b[39m \u001b[39mand\u001b[39;00m y\u001b[39m.\u001b[39msize(\u001b[39m1\u001b[39m) \u001b[39m>\u001b[39m \u001b[39m1\u001b[39m:  \u001b[39m# Это условие предполагает one-hot кодировку\u001b[39;00m\n\u001b[1;32m     <a href='vscode-notebook-cell:/home/tofan/%D0%94%D0%BE%D0%BA%D1%83%D0%BC%D0%B5%D0%BD%D1%82%D1%8B/GitHub/Lesson/%D0%A0%D0%B5%D0%BA%D1%83%D1%80%D1%80%D0%B5%D0%BD%D1%82%D0%BD%D1%8B%D0%B5_%D1%81%D0%B5%D1%82%D0%B8/lesson_rnn_lstm.ipynb#W5sZmlsZQ%3D%3D?line=45'>46</a>\u001b[0m     y \u001b[39m=\u001b[39m torch\u001b[39m.\u001b[39margmax(y, dim\u001b[39m=\u001b[39m\u001b[39m1\u001b[39m)\n\u001b[0;32m---> <a href='vscode-notebook-cell:/home/tofan/%D0%94%D0%BE%D0%BA%D1%83%D0%BC%D0%B5%D0%BD%D1%82%D1%8B/GitHub/Lesson/%D0%A0%D0%B5%D0%BA%D1%83%D1%80%D1%80%D0%B5%D0%BD%D1%82%D0%BD%D1%8B%D0%B5_%D1%81%D0%B5%D1%82%D0%B8/lesson_rnn_lstm.ipynb#W5sZmlsZQ%3D%3D?line=47'>48</a>\u001b[0m test_loss \u001b[39m+\u001b[39m\u001b[39m=\u001b[39m criterion(outputs, y)\u001b[39m.\u001b[39mitem()\n\u001b[1;32m     <a href='vscode-notebook-cell:/home/tofan/%D0%94%D0%BE%D0%BA%D1%83%D0%BC%D0%B5%D0%BD%D1%82%D1%8B/GitHub/Lesson/%D0%A0%D0%B5%D0%BA%D1%83%D1%80%D1%80%D0%B5%D0%BD%D1%82%D0%BD%D1%8B%D0%B5_%D1%81%D0%B5%D1%82%D0%B8/lesson_rnn_lstm.ipynb#W5sZmlsZQ%3D%3D?line=48'>49</a>\u001b[0m _, predicted \u001b[39m=\u001b[39m torch\u001b[39m.\u001b[39mmax(outputs\u001b[39m.\u001b[39mdata, \u001b[39m1\u001b[39m)\n\u001b[1;32m     <a href='vscode-notebook-cell:/home/tofan/%D0%94%D0%BE%D0%BA%D1%83%D0%BC%D0%B5%D0%BD%D1%82%D1%8B/GitHub/Lesson/%D0%A0%D0%B5%D0%BA%D1%83%D1%80%D1%80%D0%B5%D0%BD%D1%82%D0%BD%D1%8B%D0%B5_%D1%81%D0%B5%D1%82%D0%B8/lesson_rnn_lstm.ipynb#W5sZmlsZQ%3D%3D?line=49'>50</a>\u001b[0m total \u001b[39m+\u001b[39m\u001b[39m=\u001b[39m y\u001b[39m.\u001b[39msize(\u001b[39m0\u001b[39m)\n",
      "File \u001b[0;32m~/anaconda3/lib/python3.11/site-packages/torch/nn/modules/module.py:1518\u001b[0m, in \u001b[0;36mModule._wrapped_call_impl\u001b[0;34m(self, *args, **kwargs)\u001b[0m\n\u001b[1;32m   1516\u001b[0m     \u001b[39mreturn\u001b[39;00m \u001b[39mself\u001b[39m\u001b[39m.\u001b[39m_compiled_call_impl(\u001b[39m*\u001b[39margs, \u001b[39m*\u001b[39m\u001b[39m*\u001b[39mkwargs)  \u001b[39m# type: ignore[misc]\u001b[39;00m\n\u001b[1;32m   1517\u001b[0m \u001b[39melse\u001b[39;00m:\n\u001b[0;32m-> 1518\u001b[0m     \u001b[39mreturn\u001b[39;00m \u001b[39mself\u001b[39m\u001b[39m.\u001b[39m_call_impl(\u001b[39m*\u001b[39margs, \u001b[39m*\u001b[39m\u001b[39m*\u001b[39mkwargs)\n",
      "File \u001b[0;32m~/anaconda3/lib/python3.11/site-packages/torch/nn/modules/module.py:1527\u001b[0m, in \u001b[0;36mModule._call_impl\u001b[0;34m(self, *args, **kwargs)\u001b[0m\n\u001b[1;32m   1522\u001b[0m \u001b[39m# If we don't have any hooks, we want to skip the rest of the logic in\u001b[39;00m\n\u001b[1;32m   1523\u001b[0m \u001b[39m# this function, and just call forward.\u001b[39;00m\n\u001b[1;32m   1524\u001b[0m \u001b[39mif\u001b[39;00m \u001b[39mnot\u001b[39;00m (\u001b[39mself\u001b[39m\u001b[39m.\u001b[39m_backward_hooks \u001b[39mor\u001b[39;00m \u001b[39mself\u001b[39m\u001b[39m.\u001b[39m_backward_pre_hooks \u001b[39mor\u001b[39;00m \u001b[39mself\u001b[39m\u001b[39m.\u001b[39m_forward_hooks \u001b[39mor\u001b[39;00m \u001b[39mself\u001b[39m\u001b[39m.\u001b[39m_forward_pre_hooks\n\u001b[1;32m   1525\u001b[0m         \u001b[39mor\u001b[39;00m _global_backward_pre_hooks \u001b[39mor\u001b[39;00m _global_backward_hooks\n\u001b[1;32m   1526\u001b[0m         \u001b[39mor\u001b[39;00m _global_forward_hooks \u001b[39mor\u001b[39;00m _global_forward_pre_hooks):\n\u001b[0;32m-> 1527\u001b[0m     \u001b[39mreturn\u001b[39;00m forward_call(\u001b[39m*\u001b[39margs, \u001b[39m*\u001b[39m\u001b[39m*\u001b[39mkwargs)\n\u001b[1;32m   1529\u001b[0m \u001b[39mtry\u001b[39;00m:\n\u001b[1;32m   1530\u001b[0m     result \u001b[39m=\u001b[39m \u001b[39mNone\u001b[39;00m\n",
      "File \u001b[0;32m~/anaconda3/lib/python3.11/site-packages/torch/nn/modules/loss.py:1179\u001b[0m, in \u001b[0;36mCrossEntropyLoss.forward\u001b[0;34m(self, input, target)\u001b[0m\n\u001b[1;32m   1178\u001b[0m \u001b[39mdef\u001b[39;00m \u001b[39mforward\u001b[39m(\u001b[39mself\u001b[39m, \u001b[39minput\u001b[39m: Tensor, target: Tensor) \u001b[39m-\u001b[39m\u001b[39m>\u001b[39m Tensor:\n\u001b[0;32m-> 1179\u001b[0m     \u001b[39mreturn\u001b[39;00m F\u001b[39m.\u001b[39mcross_entropy(\u001b[39minput\u001b[39m, target, weight\u001b[39m=\u001b[39m\u001b[39mself\u001b[39m\u001b[39m.\u001b[39mweight,\n\u001b[1;32m   1180\u001b[0m                            ignore_index\u001b[39m=\u001b[39m\u001b[39mself\u001b[39m\u001b[39m.\u001b[39mignore_index, reduction\u001b[39m=\u001b[39m\u001b[39mself\u001b[39m\u001b[39m.\u001b[39mreduction,\n\u001b[1;32m   1181\u001b[0m                            label_smoothing\u001b[39m=\u001b[39m\u001b[39mself\u001b[39m\u001b[39m.\u001b[39mlabel_smoothing)\n",
      "File \u001b[0;32m~/anaconda3/lib/python3.11/site-packages/torch/nn/functional.py:3053\u001b[0m, in \u001b[0;36mcross_entropy\u001b[0;34m(input, target, weight, size_average, ignore_index, reduce, reduction, label_smoothing)\u001b[0m\n\u001b[1;32m   3051\u001b[0m \u001b[39mif\u001b[39;00m size_average \u001b[39mis\u001b[39;00m \u001b[39mnot\u001b[39;00m \u001b[39mNone\u001b[39;00m \u001b[39mor\u001b[39;00m reduce \u001b[39mis\u001b[39;00m \u001b[39mnot\u001b[39;00m \u001b[39mNone\u001b[39;00m:\n\u001b[1;32m   3052\u001b[0m     reduction \u001b[39m=\u001b[39m _Reduction\u001b[39m.\u001b[39mlegacy_get_string(size_average, reduce)\n\u001b[0;32m-> 3053\u001b[0m \u001b[39mreturn\u001b[39;00m torch\u001b[39m.\u001b[39m_C\u001b[39m.\u001b[39m_nn\u001b[39m.\u001b[39mcross_entropy_loss(\u001b[39minput\u001b[39m, target, weight, _Reduction\u001b[39m.\u001b[39mget_enum(reduction), ignore_index, label_smoothing)\n",
      "\u001b[0;31mValueError\u001b[0m: Expected input batch_size (640) to match target batch_size (64)."
     ]
    }
   ],
   "source": [
    "# Шаг 4: Оценка производительности моделей\n",
    "\n",
    "# Создаем заголовок для таблички с результатами\n",
    "print(f\"{'Модель':<10}{'Длина 10':<15}{'Длина 40':<15}{'Длина 80':<15}\")\n",
    "\n",
    "# Цикл по типам моделей\n",
    "for model_type in [\"RNN\", \"LSTM\", \"GRU\"]:\n",
    "    row = f\"{model_type:<10}\"\n",
    "    \n",
    "    # Цикл по датасетам\n",
    "    for i, (train_dataset, test_dataset) in enumerate(zip(train_datasets, test_datasets)):\n",
    "        # Создаем train_loader для текущего набора данных\n",
    "        train_loader = DataLoader(train_dataset, batch_size=64, shuffle=True)\n",
    "\n",
    "        # Создаем экземпляр модели в зависимости от типа\n",
    "        if model_type == \"RNN\":\n",
    "            model = MyRecurrentNet(nn.RNN, seq_len=10, input_size=10, hidden_size=64, num_classes=25)\n",
    "        elif model_type == \"LSTM\":\n",
    "            model = MyRecurrentNet(nn.LSTM, seq_len=10, input_size=10, hidden_size=64, num_classes=25)\n",
    "        elif model_type == \"GRU\":\n",
    "            model = MyRecurrentNet(nn.GRU, seq_len=10, input_size=10, hidden_size=64, num_classes=25)\n",
    "        \n",
    "        # Определяем функцию потерь и оптимизатор\n",
    "        criterion = nn.CrossEntropyLoss()\n",
    "        optimizer = optim.Adam(model.parameters(), lr=0.001)\n",
    "        \n",
    "        # Обучаем модель\n",
    "        # Обучаем модель, передав все необходимые аргументы\n",
    "        train_model(model, train_loader, criterion, optimizer, num_classes=25)\n",
    "        \n",
    "        # Создаем test_loader для текущего набора данных\n",
    "        test_loader = DataLoader(test_dataset, batch_size=64, shuffle=False)\n",
    "        model.eval()  # Перевод модели в режим оценки\n",
    "        test_loss = 0.0\n",
    "        correct = 0\n",
    "        total = 0\n",
    "        \n",
    "        # Оценка производительности на тестовых данных\n",
    "        with torch.no_grad():\n",
    "            for x, y in test_loader:\n",
    "                outputs = model(x)\n",
    "                outputs = outputs.view(-1, outputs.size(-1))  # Преобразуем размерность, если нужно\n",
    "\n",
    "                # Проверьте, требуется ли преобразование `y` из one-hot кодировки в индексы классов\n",
    "                if y.ndim > 1 and y.size(1) > 1:  # Это условие предполагает one-hot кодировку\n",
    "                    y = torch.argmax(y, dim=1)\n",
    "\n",
    "                test_loss += criterion(outputs, y).item()\n",
    "                _, predicted = torch.max(outputs.data, 1)\n",
    "                total += y.size(0)\n",
    "                correct += (predicted == y).sum().item()\n",
    "        \n",
    "        # Расчет средней потери и точности\n",
    "        test_loss /= len(test_loader)\n",
    "        accuracy = 100 * correct / total\n",
    "        row += f\"{test_loss/len(test_loader):<15.4f}{accuracy:<15.2f}\"\n",
    "    print(row)\n",
    "\n"
   ]
  },
  {
   "cell_type": "code",
   "execution_count": 64,
   "metadata": {},
   "outputs": [
    {
     "name": "stdout",
     "output_type": "stream",
     "text": [
      "Проверка размерностей входных данных:\n",
      "Входные данные X: torch.Size([64, 10])\n",
      "Целевые данные Y: torch.Size([64, 10])\n",
      "Выходные данные модели: torch.Size([64, 10, 25])\n",
      "Размерность целевых данных для функции потерь: torch.Size([640])\n",
      "Размерность выходных данных модели для функции потерь: torch.Size([640, 25])\n"
     ]
    }
   ],
   "source": [
    "print(\"Проверка размерностей входных данных:\")\n",
    "print(f\"Входные данные X: {x.size()}\")  # Ожидается [batch_size, sequence_length]\n",
    "print(f\"Целевые данные Y: {y.size()}\")  # Ожидается [batch_size, sequence_length]\n",
    "\n",
    "# Проверка размерностей выходных данных модели\n",
    "test_outputs = model(x)\n",
    "print(f\"Выходные данные модели: {test_outputs.size()}\")  # Ожидается [batch_size, sequence_length, num_classes]\n",
    "\n",
    "num_classes = 25  # Установите количество классов для вашей задачи\n",
    "\n",
    "# Проверка размерностей после преобразования для функции потерь\n",
    "print(f\"Размерность целевых данных для функции потерь: {y.view(-1).size()}\")\n",
    "print(f\"Размерность выходных данных модели для функции потерь: {test_outputs.view(-1, num_classes).size()}\")\n"
   ]
  },
  {
   "cell_type": "code",
   "execution_count": null,
   "metadata": {},
   "outputs": [],
   "source": []
  },
  {
   "cell_type": "code",
   "execution_count": null,
   "metadata": {},
   "outputs": [],
   "source": []
  }
 ],
 "metadata": {
  "kernelspec": {
   "display_name": "TorchEnv",
   "language": "python",
   "name": "python3"
  },
  "language_info": {
   "codemirror_mode": {
    "name": "ipython",
    "version": 3
   },
   "file_extension": ".py",
   "mimetype": "text/x-python",
   "name": "python",
   "nbconvert_exporter": "python",
   "pygments_lexer": "ipython3",
   "version": "3.11.5"
  },
  "orig_nbformat": 4
 },
 "nbformat": 4,
 "nbformat_minor": 2
}
